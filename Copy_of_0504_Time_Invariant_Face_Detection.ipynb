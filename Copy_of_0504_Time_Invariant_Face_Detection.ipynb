{
  "nbformat": 4,
  "nbformat_minor": 0,
  "metadata": {
    "colab": {
      "name": "Copy of 0504 Time Invariant Face Detection",
      "provenance": [],
      "mount_file_id": "1RSqnWwHPw9BFJUA4iHAgJWxyrGSyln2X",
      "authorship_tag": "ABX9TyMK6UkuY1PhJ31Ny/fH8bAY",
      "include_colab_link": true
    },
    "kernelspec": {
      "name": "python3",
      "display_name": "Python 3"
    },
    "accelerator": "GPU"
  },
  "cells": [
    {
      "cell_type": "markdown",
      "metadata": {
        "id": "view-in-github",
        "colab_type": "text"
      },
      "source": [
        "<a href=\"https://colab.research.google.com/github/rohailkhan/Keras-Deeplearning-Francos/blob/master/Copy_of_0504_Time_Invariant_Face_Detection.ipynb\" target=\"_parent\"><img src=\"https://colab.research.google.com/assets/colab-badge.svg\" alt=\"Open In Colab\"/></a>"
      ]
    },
    {
      "cell_type": "markdown",
      "metadata": {
        "id": "aW4nDlMkpnlf",
        "colab_type": "text"
      },
      "source": [
        "# بسم الله الرحمن الرحيم\n",
        "اللهم صل على محمد وعلى آل محمد كما صليت على إبراهيم وعلى آل إبراهيم إنك حميد مجيد، اللهم بارك على محمد وعلى آل محمد كما باركت على إبراهيم وعلى آل إبراهيم إنك حميد مجيد\n",
        "\n",
        "\n"
      ]
    },
    {
      "cell_type": "code",
      "metadata": {
        "id": "du-dJUcO8PlQ",
        "colab_type": "code",
        "outputId": "a59442a9-7106-47d6-8e63-a7fc5abcbc96",
        "colab": {
          "base_uri": "https://localhost:8080/",
          "height": 35
        }
      },
      "source": [
        "from keras.models import Sequential\n",
        "\"\"\"Import from keras_preprocessing not from keras.preprocessing, \n",
        "because Keras may or maynot contain the features discussed here \n",
        "depending upon when you read this article, until the keras_\n",
        "preprocessed library is updated in Keras use the github version.\"\"\"\n",
        "from keras_preprocessing.image import ImageDataGenerator\n",
        "from keras.layers import Dense, Activation, Flatten, Dropout, BatchNormalization\n",
        "from keras.layers import Conv2D, MaxPooling2D\n",
        "from keras import regularizers, optimizers\n",
        "import pandas as pd\n",
        "import numpy as np\n"
      ],
      "execution_count": 36,
      "outputs": [
        {
          "output_type": "stream",
          "text": [
            "Using TensorFlow backend.\n"
          ],
          "name": "stderr"
        }
      ]
    },
    {
      "cell_type": "code",
      "metadata": {
        "id": "AmU0sb5VSzw1",
        "colab_type": "code",
        "colab": {}
      },
      "source": [
        "import matplotlib.pyplot as plt"
      ],
      "execution_count": 0,
      "outputs": []
    },
    {
      "cell_type": "code",
      "metadata": {
        "id": "qfHyEghPl6J2",
        "colab_type": "code",
        "colab": {}
      },
      "source": [
        "import os ,PIL"
      ],
      "execution_count": 0,
      "outputs": []
    },
    {
      "cell_type": "markdown",
      "metadata": {
        "id": "LxFsd2SNpj2v",
        "colab_type": "text"
      },
      "source": [
        "Convert Images to black and white"
      ]
    },
    {
      "cell_type": "code",
      "metadata": {
        "id": "nRTsnKEEozJG",
        "colab_type": "code",
        "colab": {}
      },
      "source": [
        "'''\n",
        "source='E:\\\\Time-Invariant-Aging-Model-master\\\\fgsmallbw'\n",
        "list=os.listdir(source)\n",
        "for i in list:\n",
        "    PIL.Image.open(i).convert('L').save(i)"
      ],
      "execution_count": 0,
      "outputs": []
    },
    {
      "cell_type": "code",
      "metadata": {
        "id": "UHuttFu4sM0H",
        "colab_type": "code",
        "colab": {}
      },
      "source": [
        "#making the current working directory\n",
        "os.chdir('/content/drive/My Drive/Aging model')"
      ],
      "execution_count": 0,
      "outputs": []
    },
    {
      "cell_type": "code",
      "metadata": {
        "id": "7fgJZycIuiNr",
        "colab_type": "code",
        "colab": {}
      },
      "source": [
        "source='/content/drive/My Drive/Aging model/'"
      ],
      "execution_count": 0,
      "outputs": []
    },
    {
      "cell_type": "code",
      "metadata": {
        "id": "RwWbvls9CsAZ",
        "colab_type": "code",
        "colab": {}
      },
      "source": [
        "os.chdir(source)"
      ],
      "execution_count": 0,
      "outputs": []
    },
    {
      "cell_type": "code",
      "metadata": {
        "id": "Nc4lH9pRu2u6",
        "colab_type": "code",
        "colab": {}
      },
      "source": [
        "# Put all files into a single dataframe\n",
        "list_dir = [i for i in os.listdir('datafiles')]"
      ],
      "execution_count": 0,
      "outputs": []
    },
    {
      "cell_type": "code",
      "metadata": {
        "id": "hDcBwkZZCgux",
        "colab_type": "code",
        "colab": {}
      },
      "source": [
        "# Put all files into a single dataframe\n",
        "list_dir = [i for i in os.listdir('datafiles')]\n",
        "final_df = pd.DataFrame(columns=['ID','Facial Index','Mandibular Index','Intercantal Index','Orbital Width Index','Eye Fissure Index','Vermilion Height Index','Mouth Face Width Index','AGE'])\n",
        "interim_df = pd.DataFrame(columns=['ID','Facial Index','Mandibular Index','Intercantal Index','Orbital Width Index','Eye Fissure Index','Vermilion Height Index','Mouth Face Width Index','AGE'])\n",
        "age_list=list()\n",
        "for d in list_dir:\n",
        "    interim_df.at[0,  ['Facial Index','Mandibular Index','Intercantal Index','Orbital Width Index','Eye Fissure Index','Vermilion Height Index','Mouth Face Width Index']] = pd.read_csv('datafiles/'+d, sep=\" \", header=None).values[0][:7]\n",
        "    interim_df['AGE'] = int(d[4:].replace('.txt','').replace('a','').replace('b',''))\n",
        "    interim_df['ID'] = int(d[:3])\n",
        "    final_df = pd.concat([final_df,interim_df])\n",
        "    \n",
        "# sort values by age of same person\n",
        "final_df = final_df.sort_values(['ID','AGE'],ascending=True)"
      ],
      "execution_count": 0,
      "outputs": []
    },
    {
      "cell_type": "code",
      "metadata": {
        "id": "lDCtLDA0u5C_",
        "colab_type": "code",
        "colab": {}
      },
      "source": [
        ""
      ],
      "execution_count": 0,
      "outputs": []
    },
    {
      "cell_type": "markdown",
      "metadata": {
        "id": "2qlob-zJPP2o",
        "colab_type": "text"
      },
      "source": [
        "Saving in CSV"
      ]
    },
    {
      "cell_type": "code",
      "metadata": {
        "id": "J4z0HNjQK8ux",
        "colab_type": "code",
        "colab": {}
      },
      "source": [
        "image_names=[]\n",
        "for i in os.listdir('/content/drive/My Drive/Aging model/fgbw'):\n",
        "  image_names.append(i)"
      ],
      "execution_count": 0,
      "outputs": []
    },
    {
      "cell_type": "code",
      "metadata": {
        "id": "np7ZGahObdYS",
        "colab_type": "code",
        "colab": {}
      },
      "source": [
        "image_names=sorted(image_names)"
      ],
      "execution_count": 0,
      "outputs": []
    },
    {
      "cell_type": "code",
      "metadata": {
        "id": "gVC8ksvqb5hb",
        "colab_type": "code",
        "colab": {}
      },
      "source": [
        "final_df['file_name']=image_names"
      ],
      "execution_count": 0,
      "outputs": []
    },
    {
      "cell_type": "code",
      "metadata": {
        "id": "g2izVuv0MDnZ",
        "colab_type": "code",
        "colab": {}
      },
      "source": [
        "final_df.to_csv('/content/drive/My Drive/Aging model/final_df.csv')"
      ],
      "execution_count": 0,
      "outputs": []
    },
    {
      "cell_type": "markdown",
      "metadata": {
        "id": "c4GovP91J50_",
        "colab_type": "text"
      },
      "source": [
        "# Splitting data in training and validation(test) sets"
      ]
    },
    {
      "cell_type": "code",
      "metadata": {
        "id": "A2c-MmD9H3NX",
        "colab_type": "code",
        "colab": {}
      },
      "source": [
        "final_df=pd.read_csv('/content/drive/My Drive/Aging model/final_df.csv')"
      ],
      "execution_count": 0,
      "outputs": []
    },
    {
      "cell_type": "code",
      "metadata": {
        "id": "Vr9m0nZCSfbe",
        "colab_type": "code",
        "colab": {}
      },
      "source": [
        "X= final_df[  ['Facial Index','Mandibular Index','Intercantal Index','Orbital Width Index','Eye Fissure Index','Vermilion Height Index','Mouth Face Width Index']]\n",
        "y= final_df[['AGE']]"
      ],
      "execution_count": 0,
      "outputs": []
    },
    {
      "cell_type": "code",
      "metadata": {
        "id": "0gKDU8mdMHg6",
        "colab_type": "code",
        "outputId": "7c79381a-c639-47a5-cfc2-5c220a517c31",
        "colab": {
          "base_uri": "https://localhost:8080/",
          "height": 295
        }
      },
      "source": [
        "classes=y.values\n",
        "unique, counts = np.unique(classes, return_counts=True)\n",
        "plt.bar(unique,counts)\n",
        "plt.title('Class Frequency')\n",
        "plt.xlabel('Class')\n",
        "plt.ylabel('Frequency')\n",
        "plt.show()"
      ],
      "execution_count": 0,
      "outputs": [
        {
          "output_type": "display_data",
          "data": {
            "image/png": "[encoded data removed]",
            "text/plain": [
              "<Figure size 432x288 with 1 Axes>"
            ]
          },
          "metadata": {
            "tags": [],
            "needs_background": "light"
          }
        }
      ]
    },
    {
      "cell_type": "code",
      "metadata": {
        "id": "pHl3KZ3sTIy9",
        "colab_type": "code",
        "outputId": "537a2a8e-fc01-4e7f-b4a5-4f233b43a98b",
        "colab": {
          "base_uri": "https://localhost:8080/",
          "height": 35
        }
      },
      "source": [
        "len(unique)"
      ],
      "execution_count": 0,
      "outputs": [
        {
          "output_type": "execute_result",
          "data": {
            "text/plain": [
              "63"
            ]
          },
          "metadata": {
            "tags": []
          },
          "execution_count": 30
        }
      ]
    },
    {
      "cell_type": "code",
      "metadata": {
        "id": "1B5m-G9vJ3kp",
        "colab_type": "code",
        "colab": {}
      },
      "source": [
        "train_size = len(final_df['ID'].unique()) * .7"
      ],
      "execution_count": 0,
      "outputs": []
    },
    {
      "cell_type": "code",
      "metadata": {
        "id": "cPZQazQYqhfM",
        "colab_type": "code",
        "colab": {}
      },
      "source": [
        "train = pd.DataFrame()\n",
        "valid = pd.DataFrame()\n",
        "for n,i in enumerate(final_df['ID'].unique()):\n",
        "    if n< train_size:\n",
        "        train = pd.concat([train, final_df[final_df['ID']==i]])\n",
        "    else:\n",
        "        valid = pd.concat([valid, final_df[final_df['ID']==i]])"
      ],
      "execution_count": 0,
      "outputs": []
    },
    {
      "cell_type": "code",
      "metadata": {
        "id": "69OV3JYIKPGJ",
        "colab_type": "code",
        "outputId": "8b30c91f-d08d-4968-aaa3-0b20e9536e73",
        "colab": {
          "base_uri": "https://localhost:8080/",
          "height": 54
        }
      },
      "source": [
        "print('Training Set Has: ' + str(len(train.groupby('ID').count())) + ' people')\n",
        "print('Validation (Test) Set Has: ' + str(len(valid.groupby('ID').count())) + ' people')"
      ],
      "execution_count": 0,
      "outputs": [
        {
          "output_type": "stream",
          "text": [
            "Training Set Has: 58 people\n",
            "Validation (Test) Set Has: 24 people\n"
          ],
          "name": "stdout"
        }
      ]
    },
    {
      "cell_type": "code",
      "metadata": {
        "id": "F8WQgpYAKfRY",
        "colab_type": "code",
        "colab": {}
      },
      "source": [
        "X_train = train[  ['file_name','Facial Index','Mandibular Index','Intercantal Index','Orbital Width Index','Eye Fissure Index','Vermilion Height Index','Mouth Face Width Index']]\n",
        "y_train = train['AGE']\n",
        "\n",
        "X_valid = valid[  ['file_name','Facial Index','Mandibular Index','Intercantal Index','Orbital Width Index','Eye Fissure Index','Vermilion Height Index','Mouth Face Width Index']]\n",
        "y_valid = valid['AGE']"
      ],
      "execution_count": 0,
      "outputs": []
    },
    {
      "cell_type": "code",
      "metadata": {
        "id": "qLY1MkDiZ9KH",
        "colab_type": "code",
        "outputId": "ce64f003-e284-46a4-c4bb-004911403771",
        "colab": {
          "base_uri": "https://localhost:8080/",
          "height": 35
        }
      },
      "source": [
        "classes=y_train.values\n",
        "unique, counts = np.unique(classes, return_counts=True)\n",
        "print(len(unique))"
      ],
      "execution_count": 0,
      "outputs": [
        {
          "output_type": "stream",
          "text": [
            "63\n"
          ],
          "name": "stdout"
        }
      ]
    },
    {
      "cell_type": "markdown",
      "metadata": {
        "id": "2Tn7MXuyUMbC",
        "colab_type": "text"
      },
      "source": [
        "# We have 63 age labels .So we have 63 classes, We use one hot encoding for this"
      ]
    },
    {
      "cell_type": "code",
      "metadata": {
        "id": "i9VICv9LUbKH",
        "colab_type": "code",
        "colab": {}
      },
      "source": [
        "'''\n",
        "#Keras one hot encoding will not work as .So better\n",
        "# so better concat the y_train and y_label to get dummies\n",
        "from tensorflow.keras.utils import to_categorical\n",
        "NB_CLASSES = 63 # number of outputs = number of digits\n",
        "#One-hot representation of the labels.\n",
        "y_train = to_categorical(y_train, NB_CLASSES)\n",
        "y_valid = to_categorical(y_valid, NB_CLASSES)\n",
        "print(X_train.shape,y_train.shape,X_valid.shape,y_valid.shape)"
      ],
      "execution_count": 0,
      "outputs": []
    },
    {
      "cell_type": "code",
      "metadata": {
        "id": "_16-213dV2fC",
        "colab_type": "code",
        "outputId": "ed7a7ad4-0023-425d-d350-3ab820bdb8a3",
        "colab": {
          "base_uri": "https://localhost:8080/",
          "height": 35
        }
      },
      "source": [
        "print(X_train.shape,y_train.shape,X_valid.shape,y_valid.shape)"
      ],
      "execution_count": 0,
      "outputs": [
        {
          "output_type": "stream",
          "text": [
            "(701, 8) (701,) (301, 8) (301,)\n"
          ],
          "name": "stdout"
        }
      ]
    },
    {
      "cell_type": "code",
      "metadata": {
        "id": "zxuYfWHbq-8Z",
        "colab_type": "code",
        "outputId": "7dc7f65b-8afb-42ed-cdd6-e0d6c74f8112",
        "colab": {
          "base_uri": "https://localhost:8080/",
          "height": 130
        }
      },
      "source": [
        "X_train.head(2)"
      ],
      "execution_count": 0,
      "outputs": [
        {
          "output_type": "execute_result",
          "data": {
            "text/html": [
              "<div>\n",
              "<style scoped>\n",
              "    .dataframe tbody tr th:only-of-type {\n",
              "        vertical-align: middle;\n",
              "    }\n",
              "\n",
              "    .dataframe tbody tr th {\n",
              "        vertical-align: top;\n",
              "    }\n",
              "\n",
              "    .dataframe thead th {\n",
              "        text-align: right;\n",
              "    }\n",
              "</style>\n",
              "<table border=\"1\" class=\"dataframe\">\n",
              "  <thead>\n",
              "    <tr style=\"text-align: right;\">\n",
              "      <th></th>\n",
              "      <th>file_name</th>\n",
              "      <th>Facial Index</th>\n",
              "      <th>Mandibular Index</th>\n",
              "      <th>Intercantal Index</th>\n",
              "      <th>Orbital Width Index</th>\n",
              "      <th>Eye Fissure Index</th>\n",
              "      <th>Vermilion Height Index</th>\n",
              "      <th>Mouth Face Width Index</th>\n",
              "    </tr>\n",
              "  </thead>\n",
              "  <tbody>\n",
              "    <tr>\n",
              "      <th>0</th>\n",
              "      <td>001A02.JPG</td>\n",
              "      <td>0.806070</td>\n",
              "      <td>0.336661</td>\n",
              "      <td>0.390837</td>\n",
              "      <td>0.828399</td>\n",
              "      <td>0.521382</td>\n",
              "      <td>0.599030</td>\n",
              "      <td>0.346350</td>\n",
              "    </tr>\n",
              "    <tr>\n",
              "      <th>1</th>\n",
              "      <td>001A05.JPG</td>\n",
              "      <td>0.852819</td>\n",
              "      <td>0.442643</td>\n",
              "      <td>0.386980</td>\n",
              "      <td>0.774311</td>\n",
              "      <td>0.461004</td>\n",
              "      <td>0.659254</td>\n",
              "      <td>0.393676</td>\n",
              "    </tr>\n",
              "  </tbody>\n",
              "</table>\n",
              "</div>"
            ],
            "text/plain": [
              "    file_name  Facial Index  ...  Vermilion Height Index  Mouth Face Width Index\n",
              "0  001A02.JPG      0.806070  ...                0.599030                0.346350\n",
              "1  001A05.JPG      0.852819  ...                0.659254                0.393676\n",
              "\n",
              "[2 rows x 8 columns]"
            ]
          },
          "metadata": {
            "tags": []
          },
          "execution_count": 50
        }
      ]
    },
    {
      "cell_type": "code",
      "metadata": {
        "id": "yl2LkY6srV5D",
        "colab_type": "code",
        "outputId": "da78ce12-ccfa-441b-9a11-70b86d71b4cf",
        "colab": {
          "base_uri": "https://localhost:8080/",
          "height": 128
        }
      },
      "source": [
        "y_train.head(5)"
      ],
      "execution_count": 0,
      "outputs": [
        {
          "output_type": "execute_result",
          "data": {
            "text/plain": [
              "0     2\n",
              "1     5\n",
              "2     8\n",
              "3    10\n",
              "4    14\n",
              "Name: AGE, dtype: int64"
            ]
          },
          "metadata": {
            "tags": []
          },
          "execution_count": 53
        }
      ]
    },
    {
      "cell_type": "code",
      "metadata": {
        "id": "-Y1ib8V0Yefm",
        "colab_type": "code",
        "colab": {}
      },
      "source": [
        "#Example Dataframes \n",
        "# Concat with keys then get dummies\n",
        "temp = pd.get_dummies(pd.concat([y_train,y_valid],keys=[0,1]))\n",
        "\n",
        "# Selecting data from multi index and assigning them i.e\n",
        "\n",
        "y_train,y_valid = temp.xs(0),temp.xs(1)"
      ],
      "execution_count": 0,
      "outputs": []
    },
    {
      "cell_type": "code",
      "metadata": {
        "id": "AyTfD-H2ZUFT",
        "colab_type": "code",
        "outputId": "3def92a2-68ba-4de8-935c-8f7e6651c9aa",
        "colab": {
          "base_uri": "https://localhost:8080/",
          "height": 35
        }
      },
      "source": [
        "print(X_train.shape,y_train.shape,X_valid.shape,y_valid.shape)"
      ],
      "execution_count": 0,
      "outputs": [
        {
          "output_type": "stream",
          "text": [
            "(701, 8) (701, 63) (301, 8) (301, 63)\n"
          ],
          "name": "stdout"
        }
      ]
    },
    {
      "cell_type": "code",
      "metadata": {
        "id": "3FG6iyug5wND",
        "colab_type": "code",
        "outputId": "0f1d699a-80bf-4993-9e82-5c3210a57cba",
        "colab": {
          "base_uri": "https://localhost:8080/",
          "height": 35
        }
      },
      "source": [
        "X_train.shape"
      ],
      "execution_count": 0,
      "outputs": [
        {
          "output_type": "execute_result",
          "data": {
            "text/plain": [
              "(701, 8)"
            ]
          },
          "metadata": {
            "tags": []
          },
          "execution_count": 17
        }
      ]
    },
    {
      "cell_type": "code",
      "metadata": {
        "id": "fy7IIEL9aOjK",
        "colab_type": "code",
        "outputId": "6cfd4042-1d83-4c72-86e0-dd7b445984ca",
        "colab": {
          "base_uri": "https://localhost:8080/",
          "height": 128
        }
      },
      "source": [
        "y_valid.columns"
      ],
      "execution_count": 0,
      "outputs": [
        {
          "output_type": "execute_result",
          "data": {
            "text/plain": [
              "Int64Index([ 0,  1,  2,  3,  4,  5,  6,  7,  8,  9, 10, 11, 12, 13, 14, 15, 16,\n",
              "            17, 18, 19, 20, 21, 22, 23, 24, 25, 26, 27, 28, 29, 30, 31, 32, 33,\n",
              "            34, 35, 36, 37, 38, 39, 40, 41, 42, 43, 44, 45, 46, 47, 48, 49, 50,\n",
              "            51, 52, 53, 54, 55, 58, 60, 61, 62, 63, 67, 69],\n",
              "           dtype='int64')"
            ]
          },
          "metadata": {
            "tags": []
          },
          "execution_count": 17
        }
      ]
    },
    {
      "cell_type": "code",
      "metadata": {
        "id": "IXAHM-4PM1vB",
        "colab_type": "code",
        "outputId": "9342fbcd-5083-4c82-a4a0-239c930bb65b",
        "colab": {
          "base_uri": "https://localhost:8080/",
          "height": 90
        }
      },
      "source": [
        "X_train.columns"
      ],
      "execution_count": 0,
      "outputs": [
        {
          "output_type": "execute_result",
          "data": {
            "text/plain": [
              "Index(['file_name', 'Facial Index', 'Mandibular Index', 'Intercantal Index',\n",
              "       'Orbital Width Index', 'Eye Fissure Index', 'Vermilion Height Index',\n",
              "       'Mouth Face Width Index'],\n",
              "      dtype='object')"
            ]
          },
          "metadata": {
            "tags": []
          },
          "execution_count": 51
        }
      ]
    },
    {
      "cell_type": "code",
      "metadata": {
        "id": "9fFriU0gOxR2",
        "colab_type": "code",
        "colab": {}
      },
      "source": [
        ""
      ],
      "execution_count": 0,
      "outputs": []
    },
    {
      "cell_type": "markdown",
      "metadata": {
        "id": "7rHclXtQOyrV",
        "colab_type": "text"
      },
      "source": [
        "# Pre proocssing X_train & Validation\n",
        "## keeping only file names in X_train and X_validation"
      ]
    },
    {
      "cell_type": "code",
      "metadata": {
        "id": "q16ML8uCaex6",
        "colab_type": "code",
        "outputId": "58d66d7b-0e8c-4fef-fec7-407b02891ef2",
        "colab": {
          "base_uri": "https://localhost:8080/",
          "height": 90
        }
      },
      "source": [
        "X_train.columns"
      ],
      "execution_count": 0,
      "outputs": [
        {
          "output_type": "execute_result",
          "data": {
            "text/plain": [
              "Index(['file_name', 'Facial Index', 'Mandibular Index', 'Intercantal Index',\n",
              "       'Orbital Width Index', 'Eye Fissure Index', 'Vermilion Height Index',\n",
              "       'Mouth Face Width Index'],\n",
              "      dtype='object')"
            ]
          },
          "metadata": {
            "tags": []
          },
          "execution_count": 18
        }
      ]
    },
    {
      "cell_type": "code",
      "metadata": {
        "id": "WL2Fk3JFO-3_",
        "colab_type": "code",
        "outputId": "d36d9557-d614-43f0-d443-1ef95f142b59",
        "colab": {
          "base_uri": "https://localhost:8080/",
          "height": 109
        }
      },
      "source": [
        "X_train.drop(X_train.columns[[1,2,3,4,5,6,7]], axis = 1, inplace = True) "
      ],
      "execution_count": 0,
      "outputs": [
        {
          "output_type": "stream",
          "text": [
            "/usr/local/lib/python3.6/dist-packages/pandas/core/frame.py:3997: SettingWithCopyWarning: \n",
            "A value is trying to be set on a copy of a slice from a DataFrame\n",
            "\n",
            "See the caveats in the documentation: https://pandas.pydata.org/pandas-docs/stable/user_guide/indexing.html#returning-a-view-versus-a-copy\n",
            "  errors=errors,\n"
          ],
          "name": "stderr"
        }
      ]
    },
    {
      "cell_type": "code",
      "metadata": {
        "id": "BcZLxg7LQ26G",
        "colab_type": "code",
        "outputId": "933f3dfc-0d51-4523-aaa4-7dd503e26555",
        "colab": {
          "base_uri": "https://localhost:8080/",
          "height": 35
        }
      },
      "source": [
        "X_train.columns"
      ],
      "execution_count": 0,
      "outputs": [
        {
          "output_type": "execute_result",
          "data": {
            "text/plain": [
              "Index(['file_name'], dtype='object')"
            ]
          },
          "metadata": {
            "tags": []
          },
          "execution_count": 40
        }
      ]
    },
    {
      "cell_type": "code",
      "metadata": {
        "id": "8TINzX71Q9JO",
        "colab_type": "code",
        "outputId": "9b62ab6a-372f-4c2c-fbcb-a958f95059e3",
        "colab": {
          "base_uri": "https://localhost:8080/",
          "height": 109
        }
      },
      "source": [
        "X_valid.drop(X_valid.columns[[1,2,3,4,5,6,7]], axis = 1, inplace = True) "
      ],
      "execution_count": 0,
      "outputs": [
        {
          "output_type": "stream",
          "text": [
            "/usr/local/lib/python3.6/dist-packages/pandas/core/frame.py:3997: SettingWithCopyWarning: \n",
            "A value is trying to be set on a copy of a slice from a DataFrame\n",
            "\n",
            "See the caveats in the documentation: https://pandas.pydata.org/pandas-docs/stable/user_guide/indexing.html#returning-a-view-versus-a-copy\n",
            "  errors=errors,\n"
          ],
          "name": "stderr"
        }
      ]
    },
    {
      "cell_type": "code",
      "metadata": {
        "id": "9NpgC4aBanQ_",
        "colab_type": "code",
        "outputId": "07b5ba04-48ac-4cc7-be3d-91ff54d9e499",
        "colab": {
          "base_uri": "https://localhost:8080/",
          "height": 109
        }
      },
      "source": [
        "y_train.columns"
      ],
      "execution_count": 0,
      "outputs": [
        {
          "output_type": "execute_result",
          "data": {
            "text/plain": [
              "Int64Index([ 0,  1,  2,  3,  4,  5,  6,  7,  8,  9, 10, 11, 12, 13, 14, 15, 16,\n",
              "            17, 18, 19, 20, 21, 22, 23, 24, 25, 26, 27, 28, 29, 30, 31, 32, 33,\n",
              "            34, 35, 36, 37, 38, 39, 40, 41, 42, 43, 44, 45, 46, 47, 48, 49, 50,\n",
              "            51, 52, 53, 54, 55, 58, 60, 61, 62, 63, 67, 69],\n",
              "           dtype='int64')"
            ]
          },
          "metadata": {
            "tags": []
          },
          "execution_count": 42
        }
      ]
    },
    {
      "cell_type": "markdown",
      "metadata": {
        "id": "tQlmP1y0Liya",
        "colab_type": "text"
      },
      "source": [
        "# Saving "
      ]
    },
    {
      "cell_type": "code",
      "metadata": {
        "id": "eb-qays-SK1Q",
        "colab_type": "code",
        "colab": {}
      },
      "source": [
        "y_train.to_csv('/content/drive/My Drive/Aging model/y_train.csv')\n",
        "y_valid.to_csv('/content/drive/My Drive/Aging model/y_valid.csv')\n",
        "X_train.to_csv('/content/drive/My Drive/Aging model/X_train.csv')\n",
        "X_valid.to_csv('/content/drive/My Drive/Aging model/X_valid.csv')"
      ],
      "execution_count": 0,
      "outputs": []
    },
    {
      "cell_type": "code",
      "metadata": {
        "id": "ERxcVakSUSGm",
        "colab_type": "code",
        "colab": {}
      },
      "source": [
        "'''y_valid.drop(y_valid.columns[[0]], axis = 1, inplace = True)\n",
        "  y_train.drop(y_train.columns[[0]], axis = 1, inplace = True)"
      ],
      "execution_count": 0,
      "outputs": []
    },
    {
      "cell_type": "markdown",
      "metadata": {
        "id": "LcXSxW8gThhP",
        "colab_type": "text"
      },
      "source": [
        ""
      ]
    },
    {
      "cell_type": "markdown",
      "metadata": {
        "id": "zwB02ac3nfxg",
        "colab_type": "text"
      },
      "source": [
        "# Start Here : Loading CSVs for prepared data"
      ]
    },
    {
      "cell_type": "code",
      "metadata": {
        "id": "PYFiexcEnnBo",
        "colab_type": "code",
        "colab": {}
      },
      "source": [
        "y_train=pd.read_csv('/content/drive/My Drive/Aging model/y_train.csv')\n",
        "y_valid=pd.read_csv('/content/drive/My Drive/Aging model/y_valid.csv')\n",
        "X_train=pd.read_csv('/content/drive/My Drive/Aging model/X_train.csv')\n",
        "X_valid=pd.read_csv('/content/drive/My Drive/Aging model/X_valid.csv')"
      ],
      "execution_count": 0,
      "outputs": []
    },
    {
      "cell_type": "code",
      "metadata": {
        "id": "TONR7egjspXi",
        "colab_type": "code",
        "colab": {}
      },
      "source": [
        "y_valid.drop(y_valid.columns[[0]], axis = 1, inplace = True)\n",
        "y_train.drop(y_train.columns[[0]], axis = 1, inplace = True)"
      ],
      "execution_count": 0,
      "outputs": []
    },
    {
      "cell_type": "code",
      "metadata": {
        "id": "g7GwHgKIsznc",
        "colab_type": "code",
        "colab": {}
      },
      "source": [
        "X_train.drop(X_train.columns[[0]], axis = 1, inplace = True)\n",
        "X_valid.drop(X_valid.columns[[0]], axis = 1, inplace = True)"
      ],
      "execution_count": 0,
      "outputs": []
    },
    {
      "cell_type": "code",
      "metadata": {
        "id": "7sarWMAGaSjD",
        "colab_type": "code",
        "outputId": "e95f6cc3-974d-434f-b1be-e613600fbc45",
        "colab": {
          "base_uri": "https://localhost:8080/",
          "height": 35
        }
      },
      "source": [
        "print(X_train.shape,X_valid.shape,y_train.shape,y_valid.shape)"
      ],
      "execution_count": 66,
      "outputs": [
        {
          "output_type": "stream",
          "text": [
            "(701, 1) (301, 1) (701, 63) (301, 63)\n"
          ],
          "name": "stdout"
        }
      ]
    },
    {
      "cell_type": "code",
      "metadata": {
        "id": "ffXvKrdXdH1-",
        "colab_type": "code",
        "colab": {}
      },
      "source": [
        "X_data= pd.concat([X_train, X_valid], axis=0)\n",
        "y_data= pd.concat([y_train, y_valid], axis=0)"
      ],
      "execution_count": 0,
      "outputs": []
    },
    {
      "cell_type": "code",
      "metadata": {
        "id": "FJZE4T6Yflfq",
        "colab_type": "code",
        "colab": {}
      },
      "source": [
        "X_data.reset_index(drop=True, inplace=True)\n",
        "y_data.reset_index(drop=True, inplace=True)"
      ],
      "execution_count": 0,
      "outputs": []
    },
    {
      "cell_type": "markdown",
      "metadata": {
        "id": "jzksc2Oy2cLt",
        "colab_type": "text"
      },
      "source": [
        "# Concacnate bothe CSVs in single file called \"COMBINED\"\n",
        "with first column as file name and the remaining as the labels"
      ]
    },
    {
      "cell_type": "code",
      "metadata": {
        "id": "vzXFKM4bJ21P",
        "colab_type": "code",
        "colab": {}
      },
      "source": [
        "#use axis=1 for columns\n",
        "combined=pd.concat([X_data, y_data1], axis=1)"
      ],
      "execution_count": 0,
      "outputs": []
    },
    {
      "cell_type": "code",
      "metadata": {
        "id": "yAqN9JM8fv1D",
        "colab_type": "code",
        "colab": {}
      },
      "source": [
        "combined.reset_index(drop=True, inplace=True)"
      ],
      "execution_count": 0,
      "outputs": []
    },
    {
      "cell_type": "code",
      "metadata": {
        "id": "xnMvDdoIkaHe",
        "colab_type": "code",
        "outputId": "f3a97b48-5be3-40de-fae6-04630c02e399",
        "colab": {
          "base_uri": "https://localhost:8080/",
          "height": 91
        }
      },
      "source": [
        "combined['file_name'][699:702]"
      ],
      "execution_count": 70,
      "outputs": [
        {
          "output_type": "execute_result",
          "data": {
            "text/plain": [
              "699     058A15.JPG\n",
              "700     058A17.JPG\n",
              "701    059A02a.JPG\n",
              "Name: file_name, dtype: object"
            ]
          },
          "metadata": {
            "tags": []
          },
          "execution_count": 70
        }
      ]
    },
    {
      "cell_type": "code",
      "metadata": {
        "id": "09iIqqurg39K",
        "colab_type": "code",
        "colab": {
          "base_uri": "https://localhost:8080/",
          "height": 239
        },
        "outputId": "a0bcda29-9edd-4dbe-f8c1-ba0e509d9b2a"
      },
      "source": [
        "combined.dtypes"
      ],
      "execution_count": 113,
      "outputs": [
        {
          "output_type": "execute_result",
          "data": {
            "text/plain": [
              "file_name    object\n",
              "0             int64\n",
              "1             int64\n",
              "2             int64\n",
              "3             int64\n",
              "              ...  \n",
              "61            int64\n",
              "62            int64\n",
              "63            int64\n",
              "67            int64\n",
              "69            int64\n",
              "Length: 64, dtype: object"
            ]
          },
          "metadata": {
            "tags": []
          },
          "execution_count": 113
        }
      ]
    },
    {
      "cell_type": "code",
      "metadata": {
        "id": "vpdgZEgvdS_I",
        "colab_type": "code",
        "colab": {}
      },
      "source": [
        "combined.to_csv('/content/drive/My Drive/Aging model/combined.csv')"
      ],
      "execution_count": 0,
      "outputs": []
    },
    {
      "cell_type": "markdown",
      "metadata": {
        "id": "_mEFnlNN0EHN",
        "colab_type": "text"
      },
      "source": [
        "## Loading from CSV "
      ]
    },
    {
      "cell_type": "code",
      "metadata": {
        "id": "s94PZwSk3Q6t",
        "colab_type": "code",
        "colab": {}
      },
      "source": [
        "# combined=pd.read_csv('/content/drive/My Drive/Aging model/combined.csv')"
      ],
      "execution_count": 0,
      "outputs": []
    },
    {
      "cell_type": "code",
      "metadata": {
        "id": "XemeqUFV4xT7",
        "colab_type": "code",
        "outputId": "7e71f658-2dc5-4b4c-e28a-c9356f9ba5ba",
        "colab": {
          "base_uri": "https://localhost:8080/",
          "height": 146
        }
      },
      "source": [
        "combined.columns"
      ],
      "execution_count": 72,
      "outputs": [
        {
          "output_type": "execute_result",
          "data": {
            "text/plain": [
              "Index(['file_name', '0', '1', '2', '3', '4', '5', '6', '7', '8', '9', '10',\n",
              "       '11', '12', '13', '14', '15', '16', '17', '18', '19', '20', '21', '22',\n",
              "       '23', '24', '25', '26', '27', '28', '29', '30', '31', '32', '33', '34',\n",
              "       '35', '36', '37', '38', '39', '40', '41', '42', '43', '44', '45', '46',\n",
              "       '47', '48', '49', '50', '51', '52', '53', '54', '55', '58', '60', '61',\n",
              "       '62', '63', '67', '69'],\n",
              "      dtype='object')"
            ]
          },
          "metadata": {
            "tags": []
          },
          "execution_count": 72
        }
      ]
    },
    {
      "cell_type": "code",
      "metadata": {
        "id": "TDokASSx44c_",
        "colab_type": "code",
        "colab": {}
      },
      "source": [
        "target_columns=['0', '1', '2', '3', '4', '5', '6', '7', '8', '9', '10',\n",
        "       '11', '12', '13', '14', '15', '16', '17', '18', '19', '20', '21', '22',\n",
        "       '23', '24', '25', '26', '27', '28', '29', '30', '31', '32', '33', '34',\n",
        "       '35', '36', '37', '38', '39', '40', '41', '42', '43', '44', '45', '46',\n",
        "       '47', '48', '49', '50', '51', '52', '53', '54', '55', '58', '60', '61',\n",
        "       '62', '63', '67', '69']"
      ],
      "execution_count": 0,
      "outputs": []
    },
    {
      "cell_type": "code",
      "metadata": {
        "id": "-pRSJ9oQIRxG",
        "colab_type": "code",
        "outputId": "8d6ca45a-6e55-4f9e-a134-544aea880b5a",
        "colab": {
          "base_uri": "https://localhost:8080/",
          "height": 35
        }
      },
      "source": [
        "len(target_columns)"
      ],
      "execution_count": 0,
      "outputs": [
        {
          "output_type": "execute_result",
          "data": {
            "text/plain": [
              "63"
            ]
          },
          "metadata": {
            "tags": []
          },
          "execution_count": 89
        }
      ]
    },
    {
      "cell_type": "markdown",
      "metadata": {
        "id": "hn3-hGT9Ncuk",
        "colab_type": "text"
      },
      "source": [
        "Scaling Training and Validation data using ImageDataGenerator"
      ]
    },
    {
      "cell_type": "code",
      "metadata": {
        "id": "OYMoJQjrTyM4",
        "colab_type": "code",
        "colab": {}
      },
      "source": [
        "datagen=ImageDataGenerator(rescale=1./255.)\n",
        "valid_datagen=ImageDataGenerator(rescale=1./255.)"
      ],
      "execution_count": 0,
      "outputs": []
    },
    {
      "cell_type": "code",
      "metadata": {
        "id": "awM-snByK03_",
        "colab_type": "code",
        "outputId": "6757aa30-e0f7-49e5-d86e-30945cc2ed5b",
        "colab": {
          "base_uri": "https://localhost:8080/",
          "height": 35
        }
      },
      "source": [
        "train_generator=datagen.flow_from_dataframe(\n",
        "dataframe=combined[:701],\n",
        "directory=\"/content/drive/My Drive/Aging model/fgbw\",\n",
        "x_col='file_name',\n",
        "y_col=target_columns,\n",
        "batch_size=32,\n",
        "seed=42,\n",
        "shuffle=True,class_mode='raw',\n",
        "target_size=(150,150))"
      ],
      "execution_count": 75,
      "outputs": [
        {
          "output_type": "stream",
          "text": [
            "Found 701 validated image filenames.\n"
          ],
          "name": "stdout"
        }
      ]
    },
    {
      "cell_type": "code",
      "metadata": {
        "id": "xVmh_IGNO0oL",
        "colab_type": "code",
        "outputId": "005dcec1-e638-4494-a00f-06ec066b10f3",
        "colab": {
          "base_uri": "https://localhost:8080/",
          "height": 35
        }
      },
      "source": [
        "valid_generator=datagen.flow_from_dataframe(\n",
        "dataframe=combined[701:1002],\n",
        "directory=\"/content/drive/My Drive/Aging model/fgbw\",\n",
        "x_col='file_name',\n",
        "y_col=target_columns,\n",
        "batch_size=32,\n",
        "seed=42,\n",
        "shuffle=True,class_mode='raw',\n",
        "target_size=(150,150))"
      ],
      "execution_count": 76,
      "outputs": [
        {
          "output_type": "stream",
          "text": [
            "Found 301 validated image filenames.\n"
          ],
          "name": "stdout"
        }
      ]
    },
    {
      "cell_type": "code",
      "metadata": {
        "id": "HTDMObiG6Cot",
        "colab_type": "code",
        "outputId": "2108ac1e-4d7e-44fc-eb1d-4d92642b36e8",
        "colab": {
          "base_uri": "https://localhost:8080/",
          "height": 54
        }
      },
      "source": [
        "for data_batch, labels_batch in train_generator:\n",
        "  print('data batch shape:', data_batch.shape)\n",
        "  print('labels batch shape:', labels_batch.shape)\n",
        "  break"
      ],
      "execution_count": 77,
      "outputs": [
        {
          "output_type": "stream",
          "text": [
            "data batch shape: (32, 150, 150, 3)\n",
            "labels batch shape: (32, 63)\n"
          ],
          "name": "stdout"
        }
      ]
    },
    {
      "cell_type": "code",
      "metadata": {
        "id": "Ip_asaNqhEsy",
        "colab_type": "code",
        "colab": {}
      },
      "source": [
        "model = Sequential()\n",
        "model.add(Conv2D(32, (3, 3),activation='relu',\n",
        "input_shape=(150, 150, 3))) # because bw len(image.getbands()=1 so use  1 )\n",
        "model.add(MaxPooling2D((2, 2)))\n",
        "model.add(Conv2D(64, (3, 3), activation='relu'))\n",
        "model.add(MaxPooling2D((2, 2)))\n",
        "model.add(Conv2D(128, (3, 3), activation='relu'))\n",
        "model.add(MaxPooling2D((2, 2)))\n",
        "model.add(Conv2D(128, (3, 3), activation='relu'))\n",
        "model.add(MaxPooling2D((2, 2)))\n",
        "model.add(Flatten())\n",
        "model.add(Dense(512, activation='relu'))\n",
        "\n",
        "model.add(Dense(63, activation='softmax'))"
      ],
      "execution_count": 0,
      "outputs": []
    },
    {
      "cell_type": "markdown",
      "metadata": {
        "id": "2ZGclqSBfd2G",
        "colab_type": "text"
      },
      "source": [
        "# Note: For more than 2 classes,use categorical_crossentropy. and also =the activation on the last layer =softmax"
      ]
    },
    {
      "cell_type": "markdown",
      "metadata": {
        "id": "R6OdaXv6Tvqa",
        "colab_type": "text"
      },
      "source": [
        "## Check sizes and bands etc"
      ]
    },
    {
      "cell_type": "code",
      "metadata": {
        "id": "x17txwpCTz_g",
        "colab_type": "code",
        "outputId": "dd7d5160-ee55-4571-f812-f7bf3aac3bc3",
        "colab": {
          "base_uri": "https://localhost:8080/",
          "height": 74
        }
      },
      "source": [
        "from PIL import Image\n",
        "\n",
        "m1='/content/drive/My Drive/Aging model/fgsmallbw/001A43a.JPG'\n",
        "im = Image.open(m1)\n",
        "print('shape= ' + str(im.size), 'bands of RGB or L= ' + str(im.getbands))\n",
        "len(im.getbands())"
      ],
      "execution_count": 0,
      "outputs": [
        {
          "output_type": "stream",
          "text": [
            "shape= (415, 488) bands of RGB or L= <bound method Image.getbands of <PIL.JpegImagePlugin.JpegImageFile image mode=L size=415x488 at 0x7F8C8FD93CF8>>\n"
          ],
          "name": "stdout"
        },
        {
          "output_type": "execute_result",
          "data": {
            "text/plain": [
              "1"
            ]
          },
          "metadata": {
            "tags": []
          },
          "execution_count": 2
        }
      ]
    },
    {
      "cell_type": "code",
      "metadata": {
        "id": "9-J83jR2fYMz",
        "colab_type": "code",
        "colab": {}
      },
      "source": [
        "model.compile(loss='categorical_crossentropy',\n",
        "optimizer=optimizers.RMSprop(lr=1e-4),\n",
        "metrics=['acc'])"
      ],
      "execution_count": 0,
      "outputs": []
    },
    {
      "cell_type": "code",
      "metadata": {
        "id": "egK_G0hLiAMo",
        "colab_type": "code",
        "outputId": "8899e15c-6600-4e0d-e57d-e0ed2a97eb76",
        "colab": {
          "base_uri": "https://localhost:8080/",
          "height": 572
        }
      },
      "source": [
        "model.summary()"
      ],
      "execution_count": 0,
      "outputs": [
        {
          "output_type": "stream",
          "text": [
            "Model: \"sequential_1\"\n",
            "_________________________________________________________________\n",
            "Layer (type)                 Output Shape              Param #   \n",
            "=================================================================\n",
            "conv2d_1 (Conv2D)            (None, 148, 148, 32)      896       \n",
            "_________________________________________________________________\n",
            "max_pooling2d_1 (MaxPooling2 (None, 74, 74, 32)        0         \n",
            "_________________________________________________________________\n",
            "conv2d_2 (Conv2D)            (None, 72, 72, 64)        18496     \n",
            "_________________________________________________________________\n",
            "max_pooling2d_2 (MaxPooling2 (None, 36, 36, 64)        0         \n",
            "_________________________________________________________________\n",
            "conv2d_3 (Conv2D)            (None, 34, 34, 128)       73856     \n",
            "_________________________________________________________________\n",
            "max_pooling2d_3 (MaxPooling2 (None, 17, 17, 128)       0         \n",
            "_________________________________________________________________\n",
            "conv2d_4 (Conv2D)            (None, 15, 15, 128)       147584    \n",
            "_________________________________________________________________\n",
            "max_pooling2d_4 (MaxPooling2 (None, 7, 7, 128)         0         \n",
            "_________________________________________________________________\n",
            "flatten_1 (Flatten)          (None, 6272)              0         \n",
            "_________________________________________________________________\n",
            "dense_1 (Dense)              (None, 512)               3211776   \n",
            "_________________________________________________________________\n",
            "dense_2 (Dense)              (None, 63)                32319     \n",
            "=================================================================\n",
            "Total params: 3,484,927\n",
            "Trainable params: 3,484,927\n",
            "Non-trainable params: 0\n",
            "_________________________________________________________________\n"
          ],
          "name": "stdout"
        }
      ]
    },
    {
      "cell_type": "code",
      "metadata": {
        "id": "PQHxVcxEmHv1",
        "colab_type": "code",
        "colab": {}
      },
      "source": [
        "STEP_SIZE_TRAIN=train_generator.n//train_generator.batch_size\n",
        "STEP_SIZE_VALID=valid_generator.n//valid_generator.batch_size"
      ],
      "execution_count": 0,
      "outputs": []
    },
    {
      "cell_type": "code",
      "metadata": {
        "id": "NH-rDcpvf431",
        "colab_type": "code",
        "colab": {}
      },
      "source": [
        "history=model.fit_generator(generator=train_generator,\n",
        "                    steps_per_epoch=STEP_SIZE_TRAIN,\n",
        "                    validation_data=valid_generator,\n",
        "                    validation_steps=STEP_SIZE_VALID,\n",
        "                    epochs=40)"
      ],
      "execution_count": 0,
      "outputs": []
    },
    {
      "cell_type": "code",
      "metadata": {
        "id": "XwywYKwjltOq",
        "colab_type": "code",
        "colab": {}
      },
      "source": [
        ""
      ],
      "execution_count": 0,
      "outputs": []
    },
    {
      "cell_type": "markdown",
      "metadata": {
        "id": "J4KuC7F4-DeM",
        "colab_type": "text"
      },
      "source": [
        "# Saving model"
      ]
    },
    {
      "cell_type": "code",
      "metadata": {
        "id": "ITFEB_8X-Hfe",
        "colab_type": "code",
        "colab": {}
      },
      "source": [
        "model.save('/content/drive/My Drive/Aging model/model_no_aug.h5')"
      ],
      "execution_count": 0,
      "outputs": []
    },
    {
      "cell_type": "markdown",
      "metadata": {
        "id": "alcnqL27-epb",
        "colab_type": "text"
      },
      "source": [
        "# Saving History"
      ]
    },
    {
      "cell_type": "code",
      "metadata": {
        "id": "fcBqizT_-iNc",
        "colab_type": "code",
        "colab": {}
      },
      "source": [
        "import json\n",
        "# Get the dictionary containing each metric and the loss for each epoch\n",
        "history_no_augment_dict = history.history\n",
        "# Save it under the form of a json file\n",
        "# json.dumps(str(a))\n",
        "json.dump(str(history_no_augment_dict), open('/content/drive/My Drive/Aging model/history_no_augment_dict.json', 'w'))"
      ],
      "execution_count": 0,
      "outputs": []
    },
    {
      "cell_type": "code",
      "metadata": {
        "id": "V5ib3ch8AcJw",
        "colab_type": "code",
        "outputId": "c792e145-e650-4824-d6d3-02a452a5d65f",
        "colab": {
          "base_uri": "https://localhost:8080/",
          "height": 545
        }
      },
      "source": [
        "import matplotlib.pyplot as plt\n",
        "acc = history.history['acc']\n",
        "val_acc = history.history['val_acc']\n",
        "loss = history.history['loss']\n",
        "val_loss = history.history['val_loss']\n",
        "epochs = range(1, len(acc) + 1)\n",
        "plt.plot(epochs, acc, 'bo', label='Training acc')\n",
        "plt.plot(epochs, val_acc, 'b', label='Validation acc')\n",
        "plt.title('Training and validation accuracy')\n",
        "plt.legend()\n",
        "plt.figure()\n",
        "plt.plot(epochs, loss, 'bo', label='Training loss')\n",
        "plt.plot(epochs, val_loss, 'b', label='Validation loss')\n",
        "plt.title('Training and validation loss')\n",
        "plt.legend()\n",
        "plt.show()"
      ],
      "execution_count": 0,
      "outputs": [
        {
          "output_type": "display_data",
          "data": {
            "image/png": "[encoded data removed]",
            "text/plain": [
              "<Figure size 432x288 with 1 Axes>"
            ]
          },
          "metadata": {
            "tags": [],
            "needs_background": "light"
          }
        },
        {
          "output_type": "display_data",
          "data": {
            "image/png": "[encoded data removed]",
            "text/plain": [
              "<Figure size 432x288 with 1 Axes>"
            ]
          },
          "metadata": {
            "tags": [],
            "needs_background": "light"
          }
        }
      ]
    },
    {
      "cell_type": "markdown",
      "metadata": {
        "id": "P2hDALeOCSs0",
        "colab_type": "text"
      },
      "source": [
        "# Second model"
      ]
    },
    {
      "cell_type": "code",
      "metadata": {
        "id": "jRlpJSnlCWC-",
        "colab_type": "code",
        "colab": {}
      },
      "source": [
        "model2 = Sequential()\n",
        "model2.add(Conv2D(32, (3, 3), padding='same',\n",
        "                 input_shape=(150,150,3)))\n",
        "model2.add(Activation('relu'))\n",
        "model2.add(Conv2D(32, (3, 3)))\n",
        "model2.add(Activation('relu'))\n",
        "model2.add(MaxPooling2D(pool_size=(2, 2)))\n",
        "model2.add(Dropout(0.25))\n",
        "model2.add(Conv2D(64, (3, 3), padding='same'))\n",
        "model2.add(Activation('relu'))\n",
        "model2.add(Conv2D(64, (3, 3)))\n",
        "model2.add(Activation('relu'))\n",
        "model2.add(MaxPooling2D(pool_size=(2, 2)))\n",
        "model2.add(Dropout(0.25))\n",
        "model2.add(Flatten())\n",
        "model2.add(Dense(512))\n",
        "model2.add(Activation('relu'))\n",
        "model2.add(Dropout(0.5))\n",
        "model2.add(Dense(63, activation='softmax'))\n"
      ],
      "execution_count": 0,
      "outputs": []
    },
    {
      "cell_type": "code",
      "metadata": {
        "id": "l4OEues7CZxI",
        "colab_type": "code",
        "colab": {}
      },
      "source": [
        "model2.compile(loss='categorical_crossentropy',\n",
        "optimizer=optimizers.RMSprop(lr=1e-4),\n",
        "metrics=['acc'])"
      ],
      "execution_count": 0,
      "outputs": []
    },
    {
      "cell_type": "code",
      "metadata": {
        "id": "xZrEnS4EC_zt",
        "colab_type": "code",
        "colab": {}
      },
      "source": [
        "history2=model2.fit_generator(generator=train_generator,\n",
        "                    steps_per_epoch=STEP_SIZE_TRAIN,\n",
        "                    validation_data=valid_generator,\n",
        "                    validation_steps=STEP_SIZE_VALID,\n",
        "                    epochs=15)"
      ],
      "execution_count": 0,
      "outputs": []
    },
    {
      "cell_type": "markdown",
      "metadata": {
        "id": "5M8T_3MqDw4g",
        "colab_type": "text"
      },
      "source": [
        "# Saving Model 2"
      ]
    },
    {
      "cell_type": "code",
      "metadata": {
        "id": "9dh36wHOD0m7",
        "colab_type": "code",
        "colab": {}
      },
      "source": [
        "model2.save('/content/drive/My Drive/Aging model/model_no_aug2.h5')"
      ],
      "execution_count": 0,
      "outputs": []
    },
    {
      "cell_type": "markdown",
      "metadata": {
        "id": "vEGVI8TjD95T",
        "colab_type": "text"
      },
      "source": [
        "# Saving History of Model2"
      ]
    },
    {
      "cell_type": "code",
      "metadata": {
        "id": "zbwLKnEVEB5O",
        "colab_type": "code",
        "colab": {}
      },
      "source": [
        "import json\n",
        "# Get the dictionary containing each metric and the loss for each epoch\n",
        "history_no_augment_dict2 = history2.history\n",
        "# Save it under the form of a json file\n",
        "# json.dumps(str(a))\n",
        "json.dump(str(history_no_augment_dict2), open('/content/drive/My Drive/Aging model/history_no_augment_dict2.json', 'w'))"
      ],
      "execution_count": 0,
      "outputs": []
    },
    {
      "cell_type": "code",
      "metadata": {
        "id": "Ke9QpjFTDrlR",
        "colab_type": "code",
        "outputId": "dd33a436-fc77-4cbc-db56-37e1fb3d297b",
        "colab": {
          "base_uri": "https://localhost:8080/",
          "height": 545
        }
      },
      "source": [
        "import matplotlib.pyplot as plt\n",
        "acc = history2.history['acc']\n",
        "val_acc = history2.history['val_acc']\n",
        "loss = history2.history['loss']\n",
        "val_loss = history2.history['val_loss']\n",
        "epochs = range(1, len(acc) + 1)\n",
        "plt.plot(epochs, acc, 'bo', label='Training acc')\n",
        "plt.plot(epochs, val_acc, 'b', label='Validation acc')\n",
        "plt.title('Training and validation accuracy')\n",
        "plt.legend()\n",
        "plt.figure()\n",
        "plt.plot(epochs, loss, 'bo', label='Training loss')\n",
        "plt.plot(epochs, val_loss, 'b', label='Validation loss')\n",
        "plt.title('Training and validation loss')\n",
        "plt.legend()\n",
        "plt.show()"
      ],
      "execution_count": 0,
      "outputs": [
        {
          "output_type": "display_data",
          "data": {
            "image/png": "[encoded data removed]",
            "text/plain": [
              "<Figure size 432x288 with 1 Axes>"
            ]
          },
          "metadata": {
            "tags": [],
            "needs_background": "light"
          }
        },
        {
          "output_type": "display_data",
          "data": {
            "image/png": "[encoded data removed]",
            "text/plain": [
              "<Figure size 432x288 with 1 Axes>"
            ]
          },
          "metadata": {
            "tags": [],
            "needs_background": "light"
          }
        }
      ]
    },
    {
      "cell_type": "markdown",
      "metadata": {
        "id": "6nDmc_beGuXV",
        "colab_type": "text"
      },
      "source": [
        "# Using Face Augmentation"
      ]
    },
    {
      "cell_type": "code",
      "metadata": {
        "id": "IQOTIdMpGyP2",
        "colab_type": "code",
        "colab": {}
      },
      "source": [
        "datagen = ImageDataGenerator(\n",
        "rotation_range=40,\n",
        "width_shift_range=0.2,\n",
        "height_shift_range=0.2,\n",
        "shear_range=0.2,\n",
        "zoom_range=0.2,\n",
        "horizontal_flip=True,\n",
        "fill_mode='nearest')"
      ],
      "execution_count": 0,
      "outputs": []
    },
    {
      "cell_type": "markdown",
      "metadata": {
        "id": "Yc_nwRkGHg4n",
        "colab_type": "text"
      },
      "source": [
        "# Using model 1 (145) in the augmentation"
      ]
    },
    {
      "cell_type": "code",
      "metadata": {
        "id": "YKp0Pb5BHktr",
        "colab_type": "code",
        "colab": {}
      },
      "source": [
        "model3 = Sequential()\n",
        "model3.add(Conv2D(32, (3, 3), activation='relu',\n",
        "input_shape=(150, 150, 3)))\n",
        "model3.add(MaxPooling2D((2, 2)))\n",
        "model3.add(Conv2D(64, (3, 3), activation='relu'))\n",
        "model3.add(MaxPooling2D((2, 2)))\n",
        "model3.add(Conv2D(128, (3, 3), activation='relu'))\n",
        "model3.add(MaxPooling2D((2, 2)))\n",
        "model3.add(Conv2D(128, (3, 3), activation='relu'))\n",
        "model3.add(MaxPooling2D((2, 2)))\n",
        "model3.add(Flatten())\n",
        "model3.add(Dropout(0.5))\n",
        "model3.add(Dense(512, activation='relu'))\n",
        "model3.add(Dense(63, activation='softmax'))"
      ],
      "execution_count": 0,
      "outputs": []
    },
    {
      "cell_type": "code",
      "metadata": {
        "id": "Se0AX6NCH_f9",
        "colab_type": "code",
        "colab": {}
      },
      "source": [
        "model3.compile(loss='categorical_crossentropy',\n",
        "optimizer=optimizers.RMSprop(lr=1e-4),\n",
        "metrics=['acc'])"
      ],
      "execution_count": 0,
      "outputs": []
    },
    {
      "cell_type": "markdown",
      "metadata": {
        "id": "0Ghy9X1UQV_O",
        "colab_type": "text"
      },
      "source": [
        "## Defining Augmentation object using ImageDataGenerator"
      ]
    },
    {
      "cell_type": "code",
      "metadata": {
        "id": "qFd_duMbTeRe",
        "colab_type": "code",
        "colab": {}
      },
      "source": [
        "all_columns = list(combined) # Creates list of all column headers\n"
      ],
      "execution_count": 0,
      "outputs": []
    },
    {
      "cell_type": "code",
      "metadata": {
        "id": "jh7Cab7PTqkt",
        "colab_type": "code",
        "colab": {}
      },
      "source": [
        "combined[all_columns] = combined[all_columns].astype('category')"
      ],
      "execution_count": 0,
      "outputs": []
    },
    {
      "cell_type": "code",
      "metadata": {
        "id": "NX38VYM0UOvs",
        "colab_type": "code",
        "colab": {
          "base_uri": "https://localhost:8080/",
          "height": 239
        },
        "outputId": "2ea9f342-9aab-4fe8-a34d-227be57c2c38"
      },
      "source": [
        "combined.dtypes"
      ],
      "execution_count": 126,
      "outputs": [
        {
          "output_type": "execute_result",
          "data": {
            "text/plain": [
              "file_name    category\n",
              "0            category\n",
              "1            category\n",
              "2            category\n",
              "3            category\n",
              "               ...   \n",
              "61           category\n",
              "62           category\n",
              "63           category\n",
              "67           category\n",
              "69           category\n",
              "Length: 64, dtype: object"
            ]
          },
          "metadata": {
            "tags": []
          },
          "execution_count": 126
        }
      ]
    },
    {
      "cell_type": "code",
      "metadata": {
        "id": "mPEkeAFkUUep",
        "colab_type": "code",
        "colab": {}
      },
      "source": [
        "target_columns=combined.loc[:, combined.columns != 'file_name']"
      ],
      "execution_count": 0,
      "outputs": []
    },
    {
      "cell_type": "code",
      "metadata": {
        "id": "0fg6xKhjUmGK",
        "colab_type": "code",
        "colab": {
          "base_uri": "https://localhost:8080/",
          "height": 146
        },
        "outputId": "a447d43d-f3e5-42dd-db17-85263d3e0e07"
      },
      "source": [
        "target_columns.columns"
      ],
      "execution_count": 128,
      "outputs": [
        {
          "output_type": "execute_result",
          "data": {
            "text/plain": [
              "Index(['0', '1', '2', '3', '4', '5', '6', '7', '8', '9', '10', '11', '12',\n",
              "       '13', '14', '15', '16', '17', '18', '19', '20', '21', '22', '23', '24',\n",
              "       '25', '26', '27', '28', '29', '30', '31', '32', '33', '34', '35', '36',\n",
              "       '37', '38', '39', '40', '41', '42', '43', '44', '45', '46', '47', '48',\n",
              "       '49', '50', '51', '52', '53', '54', '55', '58', '60', '61', '62', '63',\n",
              "       '67', '69'],\n",
              "      dtype='object')"
            ]
          },
          "metadata": {
            "tags": []
          },
          "execution_count": 128
        }
      ]
    },
    {
      "cell_type": "code",
      "metadata": {
        "id": "Ub0f8sI5JhqB",
        "colab_type": "code",
        "colab": {}
      },
      "source": [
        "train_datagen = ImageDataGenerator(\n",
        "rescale=1./255,\n",
        "rotation_range=40,\n",
        "width_shift_range=0.2,\n",
        "height_shift_range=0.2,\n",
        "shear_range=0.2,\n",
        "zoom_range=0.2,\n",
        "horizontal_flip=True,)"
      ],
      "execution_count": 0,
      "outputs": []
    },
    {
      "cell_type": "code",
      "metadata": {
        "id": "KB1BPVMTOjVM",
        "colab_type": "code",
        "colab": {}
      },
      "source": [
        ""
      ],
      "execution_count": 0,
      "outputs": []
    },
    {
      "cell_type": "markdown",
      "metadata": {
        "id": "pIgkdBKZQlIt",
        "colab_type": "text"
      },
      "source": [
        "Defining Train and Validation generator"
      ]
    },
    {
      "cell_type": "code",
      "metadata": {
        "id": "GO4eyGjvQiy5",
        "colab_type": "code",
        "colab": {}
      },
      "source": [
        "train_generator=train_datagen.flow_from_dataframe(\n",
        "dataframe=combined[:701],\n",
        "directory=\"/content/drive/My Drive/Aging model/fgbw\",\n",
        "x_col='file_name',\n",
        "y_col=target_columns,\n",
        "batch_size=32,\n",
        "seed=42,\n",
        "shuffle=True,class_mode='raw',\n",
        "target_size=(150,150))"
      ],
      "execution_count": 0,
      "outputs": []
    },
    {
      "cell_type": "markdown",
      "metadata": {
        "id": "Ia4HpEJXPJAE",
        "colab_type": "text"
      },
      "source": [
        "## Note .Validation data is not augmented"
      ]
    },
    {
      "cell_type": "code",
      "metadata": {
        "id": "IcUyQgT5JiEd",
        "colab_type": "code",
        "outputId": "6c1e236c-8c99-4248-92f4-fab4999da181",
        "colab": {
          "base_uri": "https://localhost:8080/",
          "height": 35
        }
      },
      "source": [
        "valid_datagen = ImageDataGenerator(rescale=1./255)\n",
        "\n",
        "valid_generator=valid_datagen.flow_from_dataframe(\n",
        "dataframe=combined[701:1002],\n",
        "directory=\"/content/drive/My Drive/Aging model/fgbw\",\n",
        "x_col='file_name',\n",
        "y_col=target_columns,\n",
        "batch_size=32,\n",
        "seed=42,\n",
        "shuffle=True,class_mode='raw',\n",
        "target_size=(150,150))"
      ],
      "execution_count": 110,
      "outputs": [
        {
          "output_type": "stream",
          "text": [
            "Found 301 validated image filenames.\n"
          ],
          "name": "stdout"
        }
      ]
    },
    {
      "cell_type": "code",
      "metadata": {
        "id": "dpCmFf1CJiAx",
        "colab_type": "code",
        "colab": {}
      },
      "source": [
        "history3 = model3.fit_generator(\n",
        "train_generator,\n",
        "steps_per_epoch=100,\n",
        "epochs=100,\n",
        "validation_data=valid_generator   ,\n",
        "validation_steps=50)"
      ],
      "execution_count": 0,
      "outputs": []
    },
    {
      "cell_type": "code",
      "metadata": {
        "id": "N_3BenHVJh4t",
        "colab_type": "code",
        "colab": {}
      },
      "source": [
        "model3.save('/content/drive/My Drive/Aging model/model_yes_aug3.h5')"
      ],
      "execution_count": 0,
      "outputs": []
    },
    {
      "cell_type": "code",
      "metadata": {
        "id": "o75IZhPNJhzn",
        "colab_type": "code",
        "colab": {}
      },
      "source": [
        "# Get the dictionary containing each metric and the loss for each epoch\n",
        "history_yes_augment_dict3 = history3.history\n",
        "# Save it under the form of a json file\n",
        "# json.dumps(str(a))\n",
        "json.dump(str(history_yes_augment_dict3), open('/content/drive/My Drive/Aging model/history_yes_augment_dict3.json', 'w'))"
      ],
      "execution_count": 0,
      "outputs": []
    },
    {
      "cell_type": "code",
      "metadata": {
        "id": "qid9fy8eS0bw",
        "colab_type": "code",
        "outputId": "8f315af8-f88f-4c1a-f9be-d1d39bd7912a",
        "colab": {
          "base_uri": "https://localhost:8080/",
          "height": 545
        }
      },
      "source": [
        "acc = history3.history['acc']\n",
        "val_acc = history3.history['val_acc']\n",
        "loss = history3.history['loss']\n",
        "val_loss = history3.history['val_loss']\n",
        "epochs = range(1, len(acc) + 1)\n",
        "plt.plot(epochs, acc, 'bo', label='Training acc')\n",
        "plt.plot(epochs, val_acc, 'b', label='Validation acc')\n",
        "plt.title('Training and validation accuracy')\n",
        "plt.legend()\n",
        "plt.figure()\n",
        "plt.plot(epochs, loss, 'bo', label='Training loss')\n",
        "plt.plot(epochs, val_loss, 'b', label='Validation loss')\n",
        "plt.title('Training and validation loss')\n",
        "plt.legend()\n",
        "plt.show()"
      ],
      "execution_count": 0,
      "outputs": [
        {
          "output_type": "display_data",
          "data": {
            "image/png": "[encoded data removed]",
            "text/plain": [
              "<Figure size 432x288 with 1 Axes>"
            ]
          },
          "metadata": {
            "tags": [],
            "needs_background": "light"
          }
        },
        {
          "output_type": "display_data",
          "data": {
            "image/png": "[encoded data removed]",
            "text/plain": [
              "<Figure size 432x288 with 1 Axes>"
            ]
          },
          "metadata": {
            "tags": [],
            "needs_background": "light"
          }
        }
      ]
    },
    {
      "cell_type": "markdown",
      "metadata": {
        "id": "wxnWxB6wRPbG",
        "colab_type": "text"
      },
      "source": [
        "# Using 22 epochs this time and a smaller model"
      ]
    },
    {
      "cell_type": "code",
      "metadata": {
        "id": "ZlOcZmEEtuPH",
        "colab_type": "code",
        "colab": {}
      },
      "source": [
        "model3 = Sequential()\n",
        "model3.add(Conv2D(32, (3, 3), activation='relu',\n",
        "input_shape=(150, 150, 3)))\n",
        "model3.add(MaxPooling2D((2, 2)))\n",
        "model3.add(Conv2D(64, (3, 3), activation='relu'))\n",
        "\n",
        "model3.add(Flatten())\n",
        "model3.add(Dropout(0.5))\n",
        "model3.add(Dense(512, activation='relu'))\n",
        "model3.add(Dense(63, activation='softmax'))\n",
        "\n",
        "model3.compile(loss='categorical_crossentropy',\n",
        "optimizer=optimizers.RMSprop(lr=0.00001),\n",
        "metrics=['acc'])"
      ],
      "execution_count": 0,
      "outputs": []
    },
    {
      "cell_type": "code",
      "metadata": {
        "id": "tayZr4oDRUi8",
        "colab_type": "code",
        "colab": {}
      },
      "source": [
        "history4 = model3.fit_generator(\n",
        "train_generator,\n",
        "steps_per_epoch=100,\n",
        "epochs=100,\n",
        "validation_data=valid_generator   ,\n",
        "validation_steps=50)"
      ],
      "execution_count": 0,
      "outputs": []
    },
    {
      "cell_type": "code",
      "metadata": {
        "id": "2KXeXqtkf0-V",
        "colab_type": "code",
        "colab": {
          "base_uri": "https://localhost:8080/",
          "height": 545
        },
        "outputId": "3294f53e-2248-422d-a764-a55efd99cbf2"
      },
      "source": [
        "import matplotlib.pyplot as plt\n",
        "acc = history4.history['acc']\n",
        "val_acc = history4.history['val_acc']\n",
        "loss = history4.history['loss']\n",
        "val_loss = history4.history['val_loss']\n",
        "epochs = range(1, len(acc) + 1)\n",
        "plt.plot(epochs, acc, 'bo', label='Training acc')\n",
        "plt.plot(epochs, val_acc, 'b', label='Validation acc')\n",
        "plt.title('Training and validation accuracy')\n",
        "plt.legend()\n",
        "plt.figure()\n",
        "plt.plot(epochs, loss, 'bo', label='Training loss')\n",
        "plt.plot(epochs, val_loss, 'b', label='Validation loss')\n",
        "plt.title('Training and validation loss')\n",
        "plt.legend()\n",
        "plt.show()"
      ],
      "execution_count": 108,
      "outputs": [
        {
          "output_type": "display_data",
          "data": {
            "image/png": "[encoded data removed]",
            "text/plain": [
              "<Figure size 432x288 with 1 Axes>"
            ]
          },
          "metadata": {
            "tags": [],
            "needs_background": "light"
          }
        },
        {
          "output_type": "display_data",
          "data": {
            "image/png": "[encoded data removed]",
            "text/plain": [
              "<Figure size 432x288 with 1 Axes>"
            ]
          },
          "metadata": {
            "tags": [],
            "needs_background": "light"
          }
        }
      ]
    },
    {
      "cell_type": "code",
      "metadata": {
        "id": "neqGSz51tq0A",
        "colab_type": "code",
        "colab": {}
      },
      "source": [
        ""
      ],
      "execution_count": 0,
      "outputs": []
    },
    {
      "cell_type": "markdown",
      "metadata": {
        "id": "paCHxCjYdNBo",
        "colab_type": "text"
      },
      "source": [
        "# other data"
      ]
    },
    {
      "cell_type": "code",
      "metadata": {
        "id": "SYEuqv0wdQl6",
        "colab_type": "code",
        "outputId": "630b31f6-b043-4a58-d380-5d4f68cf73c8",
        "colab": {
          "base_uri": "https://localhost:8080/",
          "height": 35
        }
      },
      "source": [
        "df=pd.read_csv('/content/drive/My Drive/miml_dataset/miml_labels_1.csv')\n",
        "columns=[\"desert\", \"mountains\", \"sea\", \"sunset\", \"trees\"]\n",
        "datagen=ImageDataGenerator(rescale=1./255.)\n",
        "test_datagen=ImageDataGenerator(rescale=1./255.)\n",
        "train_generator=datagen.flow_from_dataframe(\n",
        "dataframe=df[:1800],\n",
        "directory='/content/drive/My Drive/miml_dataset/images',\n",
        "x_col=\"Filenames\",\n",
        "y_col=columns,\n",
        "batch_size=32,\n",
        "seed=42,\n",
        "shuffle=True,\n",
        "class_mode=\"raw\",\n",
        "target_size=(100,100))"
      ],
      "execution_count": 0,
      "outputs": [
        {
          "output_type": "stream",
          "text": [
            "Found 1800 validated image filenames.\n"
          ],
          "name": "stdout"
        }
      ]
    },
    {
      "cell_type": "code",
      "metadata": {
        "id": "ECG7Eojm2195",
        "colab_type": "code",
        "outputId": "94c84bed-f3ee-4e4a-d300-92516445aa27",
        "colab": {
          "base_uri": "https://localhost:8080/",
          "height": 112
        }
      },
      "source": [
        "df.head(2)"
      ],
      "execution_count": 0,
      "outputs": [
        {
          "output_type": "execute_result",
          "data": {
            "text/html": [
              "<div>\n",
              "<style scoped>\n",
              "    .dataframe tbody tr th:only-of-type {\n",
              "        vertical-align: middle;\n",
              "    }\n",
              "\n",
              "    .dataframe tbody tr th {\n",
              "        vertical-align: top;\n",
              "    }\n",
              "\n",
              "    .dataframe thead th {\n",
              "        text-align: right;\n",
              "    }\n",
              "</style>\n",
              "<table border=\"1\" class=\"dataframe\">\n",
              "  <thead>\n",
              "    <tr style=\"text-align: right;\">\n",
              "      <th></th>\n",
              "      <th>Filenames</th>\n",
              "      <th>desert</th>\n",
              "      <th>mountains</th>\n",
              "      <th>sea</th>\n",
              "      <th>sunset</th>\n",
              "      <th>trees</th>\n",
              "    </tr>\n",
              "  </thead>\n",
              "  <tbody>\n",
              "    <tr>\n",
              "      <th>0</th>\n",
              "      <td>1.jpg</td>\n",
              "      <td>1</td>\n",
              "      <td>0</td>\n",
              "      <td>0</td>\n",
              "      <td>0</td>\n",
              "      <td>0</td>\n",
              "    </tr>\n",
              "    <tr>\n",
              "      <th>1</th>\n",
              "      <td>2.jpg</td>\n",
              "      <td>1</td>\n",
              "      <td>0</td>\n",
              "      <td>0</td>\n",
              "      <td>0</td>\n",
              "      <td>0</td>\n",
              "    </tr>\n",
              "  </tbody>\n",
              "</table>\n",
              "</div>"
            ],
            "text/plain": [
              "  Filenames  desert  mountains  sea  sunset  trees\n",
              "0     1.jpg       1          0    0       0      0\n",
              "1     2.jpg       1          0    0       0      0"
            ]
          },
          "metadata": {
            "tags": []
          },
          "execution_count": 29
        }
      ]
    },
    {
      "cell_type": "code",
      "metadata": {
        "id": "JYlF2FWhd1rp",
        "colab_type": "code",
        "outputId": "26fe3073-7bed-41f6-a9e1-4430a1f551dd",
        "colab": {
          "base_uri": "https://localhost:8080/",
          "height": 54
        }
      },
      "source": [
        "for data_batch, labels_batch in train_generator:\n",
        "  print('data batch shape:', data_batch.shape)\n",
        "  print('labels batch shape:', labels_batch.shape)\n",
        "  break"
      ],
      "execution_count": 0,
      "outputs": [
        {
          "output_type": "stream",
          "text": [
            "data batch shape: (32, 100, 100, 3)\n",
            "labels batch shape: (32, 5)\n"
          ],
          "name": "stdout"
        }
      ]
    },
    {
      "cell_type": "code",
      "metadata": {
        "id": "WKanOVwadO6S",
        "colab_type": "code",
        "colab": {}
      },
      "source": [
        "datagen=ImageDataGenerator(rescale=1./255.)\n",
        "test_datagen=ImageDataGenerator(rescale=1./255.)train_generator=datagen.flow_from_dataframe(\n",
        "dataframe=df[:1800],\n",
        "directory=\"./miml_dataset/images\",\n",
        "x_col=\"Filenames\",\n",
        "y_col=\"labels\",\n",
        "batch_size=32,\n",
        "seed=42,\n",
        "shuffle=True,\n",
        "class_mode=\"categorical\",\n",
        "classes=[\"desert\", \"mountains\", \"sea\", \"sunset\", \"trees\"],\n",
        "target_size=(100,100))"
      ],
      "execution_count": 0,
      "outputs": []
    }
  ]
}