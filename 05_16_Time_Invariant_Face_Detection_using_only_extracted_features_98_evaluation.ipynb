{
  "nbformat": 4,
  "nbformat_minor": 0,
  "metadata": {
    "colab": {
      "name": "05-16 Time Invariant Face Detection using only extracted features 98% evaluation",
      "provenance": [],
      "toc_visible": true,
      "mount_file_id": "1iBrgh4W2rYObl0Hnc7hn7_A1xp38f_cU",
      "authorship_tag": "ABX9TyO468qyDXxg4FDJvp3ZwMsU",
      "include_colab_link": true
    },
    "kernelspec": {
      "name": "python3",
      "display_name": "Python 3"
    }
  },
  "cells": [
    {
      "cell_type": "markdown",
      "metadata": {
        "id": "view-in-github",
        "colab_type": "text"
      },
      "source": [
        "<a href=\"https://colab.research.google.com/github/rohailkhan/Keras-Deeplearning-Francos/blob/master/05_16_Time_Invariant_Face_Detection_using_only_extracted_features_98_evaluation.ipynb\" target=\"_parent\"><img src=\"https://colab.research.google.com/assets/colab-badge.svg\" alt=\"Open In Colab\"/></a>"
      ]
    },
    {
      "cell_type": "markdown",
      "metadata": {
        "id": "i3sZwjirwJS_",
        "colab_type": "text"
      },
      "source": [
        "# بسم الله الرحمن الرحيم\n",
        "اللهم صل على محمد وعلى آل محمد كما صليت على إبراهيم وعلى آل إبراهيم إنك حميد مجيد، اللهم بارك على محمد وعلى آل محمد كما باركت على إبراهيم وعلى آل إبراهيم إنك حميد مجيد\n",
        "\n",
        "\n"
      ]
    },
    {
      "cell_type": "code",
      "metadata": {
        "id": "qC3OMFNJvriW",
        "colab_type": "code",
        "colab": {
          "base_uri": "https://localhost:8080/",
          "height": 35
        },
        "outputId": "3fab453f-f57c-499e-c615-197842b3e227"
      },
      "source": [
        "from keras.models import Sequential\n",
        "\"\"\"Import from keras_preprocessing not from keras.preprocessing, \n",
        "because Keras may or maynot contain the features discussed here \n",
        "depending upon when you read this article, until the keras_\n",
        "preprocessed library is updated in Keras use the github version.\"\"\"\n",
        "from keras_preprocessing.image import ImageDataGenerator\n",
        "from keras.layers import Dense, Activation, Flatten, Dropout, BatchNormalization\n",
        "from keras.layers import Conv2D, MaxPooling2D\n",
        "from keras import regularizers, optimizers\n",
        "import pandas as pd\n",
        "import numpy as np\n",
        "import os ,PIL\n",
        "import matplotlib.pyplot as plt\n"
      ],
      "execution_count": 2,
      "outputs": [
        {
          "output_type": "stream",
          "text": [
            "Using TensorFlow backend.\n"
          ],
          "name": "stderr"
        }
      ]
    },
    {
      "cell_type": "code",
      "metadata": {
        "id": "4_0EE2EawVst",
        "colab_type": "code",
        "colab": {}
      },
      "source": [
        "import matplotlib.pyplot as plt\n",
        "import os ,PIL"
      ],
      "execution_count": 0,
      "outputs": []
    },
    {
      "cell_type": "code",
      "metadata": {
        "id": "4ELFAouYwkvJ",
        "colab_type": "code",
        "colab": {}
      },
      "source": [
        "final_df=pd.read_csv('/content/drive/My Drive/Aging model/final_df.csv')"
      ],
      "execution_count": 0,
      "outputs": []
    },
    {
      "cell_type": "code",
      "metadata": {
        "id": "B1rn7TTowncA",
        "colab_type": "code",
        "colab": {
          "base_uri": "https://localhost:8080/",
          "height": 91
        },
        "outputId": "ea25c89c-809f-46b5-f30a-a4fe114c231c"
      },
      "source": [
        "final_df.columns"
      ],
      "execution_count": 4,
      "outputs": [
        {
          "output_type": "execute_result",
          "data": {
            "text/plain": [
              "Index(['Unnamed: 0', 'Unnamed: 0.1', 'ID', 'Facial Index', 'Mandibular Index',\n",
              "       'Intercantal Index', 'Orbital Width Index', 'Eye Fissure Index',\n",
              "       'Vermilion Height Index', 'Mouth Face Width Index', 'AGE', 'file_name'],\n",
              "      dtype='object')"
            ]
          },
          "metadata": {
            "tags": []
          },
          "execution_count": 4
        }
      ]
    },
    {
      "cell_type": "markdown",
      "metadata": {
        "id": "U2KT_e3VxCKn",
        "colab_type": "text"
      },
      "source": [
        "## Dropping column 0"
      ]
    },
    {
      "cell_type": "code",
      "metadata": {
        "id": "AlyOnszGxACE",
        "colab_type": "code",
        "colab": {
          "base_uri": "https://localhost:8080/",
          "height": 258
        },
        "outputId": "acf06047-7e27-4028-9078-9515afaed5ae"
      },
      "source": [
        "final_df.drop(final_df.columns[[0]], axis = 1, inplace = True) \n",
        "final_df.head()"
      ],
      "execution_count": 5,
      "outputs": [
        {
          "output_type": "execute_result",
          "data": {
            "text/html": [
              "<div>\n",
              "<style scoped>\n",
              "    .dataframe tbody tr th:only-of-type {\n",
              "        vertical-align: middle;\n",
              "    }\n",
              "\n",
              "    .dataframe tbody tr th {\n",
              "        vertical-align: top;\n",
              "    }\n",
              "\n",
              "    .dataframe thead th {\n",
              "        text-align: right;\n",
              "    }\n",
              "</style>\n",
              "<table border=\"1\" class=\"dataframe\">\n",
              "  <thead>\n",
              "    <tr style=\"text-align: right;\">\n",
              "      <th></th>\n",
              "      <th>Unnamed: 0.1</th>\n",
              "      <th>ID</th>\n",
              "      <th>Facial Index</th>\n",
              "      <th>Mandibular Index</th>\n",
              "      <th>Intercantal Index</th>\n",
              "      <th>Orbital Width Index</th>\n",
              "      <th>Eye Fissure Index</th>\n",
              "      <th>Vermilion Height Index</th>\n",
              "      <th>Mouth Face Width Index</th>\n",
              "      <th>AGE</th>\n",
              "      <th>file_name</th>\n",
              "    </tr>\n",
              "  </thead>\n",
              "  <tbody>\n",
              "    <tr>\n",
              "      <th>0</th>\n",
              "      <td>0</td>\n",
              "      <td>1</td>\n",
              "      <td>0.806070</td>\n",
              "      <td>0.336661</td>\n",
              "      <td>0.390837</td>\n",
              "      <td>0.828399</td>\n",
              "      <td>0.521382</td>\n",
              "      <td>0.599030</td>\n",
              "      <td>0.346350</td>\n",
              "      <td>2</td>\n",
              "      <td>001A02.JPG</td>\n",
              "    </tr>\n",
              "    <tr>\n",
              "      <th>1</th>\n",
              "      <td>0</td>\n",
              "      <td>1</td>\n",
              "      <td>0.852819</td>\n",
              "      <td>0.442643</td>\n",
              "      <td>0.386980</td>\n",
              "      <td>0.774311</td>\n",
              "      <td>0.461004</td>\n",
              "      <td>0.659254</td>\n",
              "      <td>0.393676</td>\n",
              "      <td>5</td>\n",
              "      <td>001A05.JPG</td>\n",
              "    </tr>\n",
              "    <tr>\n",
              "      <th>2</th>\n",
              "      <td>0</td>\n",
              "      <td>1</td>\n",
              "      <td>0.877282</td>\n",
              "      <td>0.404491</td>\n",
              "      <td>0.442716</td>\n",
              "      <td>0.675757</td>\n",
              "      <td>0.358158</td>\n",
              "      <td>0.306820</td>\n",
              "      <td>0.384508</td>\n",
              "      <td>8</td>\n",
              "      <td>001A08.JPG</td>\n",
              "    </tr>\n",
              "    <tr>\n",
              "      <th>3</th>\n",
              "      <td>0</td>\n",
              "      <td>1</td>\n",
              "      <td>0.883831</td>\n",
              "      <td>0.395061</td>\n",
              "      <td>0.415456</td>\n",
              "      <td>0.698110</td>\n",
              "      <td>0.419721</td>\n",
              "      <td>0.409635</td>\n",
              "      <td>0.361281</td>\n",
              "      <td>10</td>\n",
              "      <td>001A10.JPG</td>\n",
              "    </tr>\n",
              "    <tr>\n",
              "      <th>4</th>\n",
              "      <td>0</td>\n",
              "      <td>1</td>\n",
              "      <td>0.892233</td>\n",
              "      <td>0.408905</td>\n",
              "      <td>0.421452</td>\n",
              "      <td>0.690838</td>\n",
              "      <td>0.414924</td>\n",
              "      <td>0.511849</td>\n",
              "      <td>0.428505</td>\n",
              "      <td>14</td>\n",
              "      <td>001A14.JPG</td>\n",
              "    </tr>\n",
              "  </tbody>\n",
              "</table>\n",
              "</div>"
            ],
            "text/plain": [
              "   Unnamed: 0.1  ID  Facial Index  ...  Mouth Face Width Index  AGE   file_name\n",
              "0             0   1      0.806070  ...                0.346350    2  001A02.JPG\n",
              "1             0   1      0.852819  ...                0.393676    5  001A05.JPG\n",
              "2             0   1      0.877282  ...                0.384508    8  001A08.JPG\n",
              "3             0   1      0.883831  ...                0.361281   10  001A10.JPG\n",
              "4             0   1      0.892233  ...                0.428505   14  001A14.JPG\n",
              "\n",
              "[5 rows x 11 columns]"
            ]
          },
          "metadata": {
            "tags": []
          },
          "execution_count": 5
        }
      ]
    },
    {
      "cell_type": "markdown",
      "metadata": {
        "id": "qUQNdYGGxXDF",
        "colab_type": "text"
      },
      "source": [
        "## Dropping 0 and 10"
      ]
    },
    {
      "cell_type": "code",
      "metadata": {
        "id": "eYf4phYaxlQW",
        "colab_type": "code",
        "colab": {
          "base_uri": "https://localhost:8080/",
          "height": 224
        },
        "outputId": "a5d46497-9710-46d9-87a0-38f13497fb5f"
      },
      "source": [
        "final_df.drop(final_df.columns[[0,10]], axis = 1, inplace = True) \n"
      ],
      "execution_count": 6,
      "outputs": [
        {
          "output_type": "execute_result",
          "data": {
            "text/html": [
              "<div>\n",
              "<style scoped>\n",
              "    .dataframe tbody tr th:only-of-type {\n",
              "        vertical-align: middle;\n",
              "    }\n",
              "\n",
              "    .dataframe tbody tr th {\n",
              "        vertical-align: top;\n",
              "    }\n",
              "\n",
              "    .dataframe thead th {\n",
              "        text-align: right;\n",
              "    }\n",
              "</style>\n",
              "<table border=\"1\" class=\"dataframe\">\n",
              "  <thead>\n",
              "    <tr style=\"text-align: right;\">\n",
              "      <th></th>\n",
              "      <th>ID</th>\n",
              "      <th>Facial Index</th>\n",
              "      <th>Mandibular Index</th>\n",
              "      <th>Intercantal Index</th>\n",
              "      <th>Orbital Width Index</th>\n",
              "      <th>Eye Fissure Index</th>\n",
              "      <th>Vermilion Height Index</th>\n",
              "      <th>Mouth Face Width Index</th>\n",
              "      <th>AGE</th>\n",
              "    </tr>\n",
              "  </thead>\n",
              "  <tbody>\n",
              "    <tr>\n",
              "      <th>0</th>\n",
              "      <td>1</td>\n",
              "      <td>0.806070</td>\n",
              "      <td>0.336661</td>\n",
              "      <td>0.390837</td>\n",
              "      <td>0.828399</td>\n",
              "      <td>0.521382</td>\n",
              "      <td>0.599030</td>\n",
              "      <td>0.346350</td>\n",
              "      <td>2</td>\n",
              "    </tr>\n",
              "    <tr>\n",
              "      <th>1</th>\n",
              "      <td>1</td>\n",
              "      <td>0.852819</td>\n",
              "      <td>0.442643</td>\n",
              "      <td>0.386980</td>\n",
              "      <td>0.774311</td>\n",
              "      <td>0.461004</td>\n",
              "      <td>0.659254</td>\n",
              "      <td>0.393676</td>\n",
              "      <td>5</td>\n",
              "    </tr>\n",
              "    <tr>\n",
              "      <th>2</th>\n",
              "      <td>1</td>\n",
              "      <td>0.877282</td>\n",
              "      <td>0.404491</td>\n",
              "      <td>0.442716</td>\n",
              "      <td>0.675757</td>\n",
              "      <td>0.358158</td>\n",
              "      <td>0.306820</td>\n",
              "      <td>0.384508</td>\n",
              "      <td>8</td>\n",
              "    </tr>\n",
              "    <tr>\n",
              "      <th>3</th>\n",
              "      <td>1</td>\n",
              "      <td>0.883831</td>\n",
              "      <td>0.395061</td>\n",
              "      <td>0.415456</td>\n",
              "      <td>0.698110</td>\n",
              "      <td>0.419721</td>\n",
              "      <td>0.409635</td>\n",
              "      <td>0.361281</td>\n",
              "      <td>10</td>\n",
              "    </tr>\n",
              "    <tr>\n",
              "      <th>4</th>\n",
              "      <td>1</td>\n",
              "      <td>0.892233</td>\n",
              "      <td>0.408905</td>\n",
              "      <td>0.421452</td>\n",
              "      <td>0.690838</td>\n",
              "      <td>0.414924</td>\n",
              "      <td>0.511849</td>\n",
              "      <td>0.428505</td>\n",
              "      <td>14</td>\n",
              "    </tr>\n",
              "  </tbody>\n",
              "</table>\n",
              "</div>"
            ],
            "text/plain": [
              "   ID  Facial Index  ...  Mouth Face Width Index  AGE\n",
              "0   1      0.806070  ...                0.346350    2\n",
              "1   1      0.852819  ...                0.393676    5\n",
              "2   1      0.877282  ...                0.384508    8\n",
              "3   1      0.883831  ...                0.361281   10\n",
              "4   1      0.892233  ...                0.428505   14\n",
              "\n",
              "[5 rows x 9 columns]"
            ]
          },
          "metadata": {
            "tags": []
          },
          "execution_count": 6
        }
      ]
    },
    {
      "cell_type": "code",
      "metadata": {
        "id": "BUyLdIMV6xih",
        "colab_type": "code",
        "colab": {
          "base_uri": "https://localhost:8080/",
          "height": 224
        },
        "outputId": "25052439-7ddb-4f87-97d6-4496267bba97"
      },
      "source": [
        "final_df.head()"
      ],
      "execution_count": 63,
      "outputs": [
        {
          "output_type": "execute_result",
          "data": {
            "text/html": [
              "<div>\n",
              "<style scoped>\n",
              "    .dataframe tbody tr th:only-of-type {\n",
              "        vertical-align: middle;\n",
              "    }\n",
              "\n",
              "    .dataframe tbody tr th {\n",
              "        vertical-align: top;\n",
              "    }\n",
              "\n",
              "    .dataframe thead th {\n",
              "        text-align: right;\n",
              "    }\n",
              "</style>\n",
              "<table border=\"1\" class=\"dataframe\">\n",
              "  <thead>\n",
              "    <tr style=\"text-align: right;\">\n",
              "      <th></th>\n",
              "      <th>ID</th>\n",
              "      <th>Facial Index</th>\n",
              "      <th>Mandibular Index</th>\n",
              "      <th>Intercantal Index</th>\n",
              "      <th>Orbital Width Index</th>\n",
              "      <th>Eye Fissure Index</th>\n",
              "      <th>Vermilion Height Index</th>\n",
              "      <th>Mouth Face Width Index</th>\n",
              "      <th>AGE</th>\n",
              "    </tr>\n",
              "  </thead>\n",
              "  <tbody>\n",
              "    <tr>\n",
              "      <th>0</th>\n",
              "      <td>1</td>\n",
              "      <td>0.806070</td>\n",
              "      <td>0.336661</td>\n",
              "      <td>0.390837</td>\n",
              "      <td>0.828399</td>\n",
              "      <td>0.521382</td>\n",
              "      <td>0.599030</td>\n",
              "      <td>0.346350</td>\n",
              "      <td>2</td>\n",
              "    </tr>\n",
              "    <tr>\n",
              "      <th>1</th>\n",
              "      <td>1</td>\n",
              "      <td>0.852819</td>\n",
              "      <td>0.442643</td>\n",
              "      <td>0.386980</td>\n",
              "      <td>0.774311</td>\n",
              "      <td>0.461004</td>\n",
              "      <td>0.659254</td>\n",
              "      <td>0.393676</td>\n",
              "      <td>5</td>\n",
              "    </tr>\n",
              "    <tr>\n",
              "      <th>2</th>\n",
              "      <td>1</td>\n",
              "      <td>0.877282</td>\n",
              "      <td>0.404491</td>\n",
              "      <td>0.442716</td>\n",
              "      <td>0.675757</td>\n",
              "      <td>0.358158</td>\n",
              "      <td>0.306820</td>\n",
              "      <td>0.384508</td>\n",
              "      <td>8</td>\n",
              "    </tr>\n",
              "    <tr>\n",
              "      <th>3</th>\n",
              "      <td>1</td>\n",
              "      <td>0.883831</td>\n",
              "      <td>0.395061</td>\n",
              "      <td>0.415456</td>\n",
              "      <td>0.698110</td>\n",
              "      <td>0.419721</td>\n",
              "      <td>0.409635</td>\n",
              "      <td>0.361281</td>\n",
              "      <td>10</td>\n",
              "    </tr>\n",
              "    <tr>\n",
              "      <th>4</th>\n",
              "      <td>1</td>\n",
              "      <td>0.892233</td>\n",
              "      <td>0.408905</td>\n",
              "      <td>0.421452</td>\n",
              "      <td>0.690838</td>\n",
              "      <td>0.414924</td>\n",
              "      <td>0.511849</td>\n",
              "      <td>0.428505</td>\n",
              "      <td>14</td>\n",
              "    </tr>\n",
              "  </tbody>\n",
              "</table>\n",
              "</div>"
            ],
            "text/plain": [
              "   ID  Facial Index  ...  Mouth Face Width Index  AGE\n",
              "0   1      0.806070  ...                0.346350    2\n",
              "1   1      0.852819  ...                0.393676    5\n",
              "2   1      0.877282  ...                0.384508    8\n",
              "3   1      0.883831  ...                0.361281   10\n",
              "4   1      0.892233  ...                0.428505   14\n",
              "\n",
              "[5 rows x 9 columns]"
            ]
          },
          "metadata": {
            "tags": []
          },
          "execution_count": 63
        }
      ]
    },
    {
      "cell_type": "markdown",
      "metadata": {
        "id": "1s9kcEQe75xt",
        "colab_type": "text"
      },
      "source": [
        "# Onee hot encoding of 82 samples"
      ]
    },
    {
      "cell_type": "code",
      "metadata": {
        "id": "EjAw2Akl7_aS",
        "colab_type": "code",
        "colab": {}
      },
      "source": [
        "from sklearn.preprocessing import OneHotEncoder# creating instance of one-hot-encoder\n",
        "enc = OneHotEncoder(handle_unknown='ignore')# passing bridge-types-cat column (label encoded values of bridge_types)\n"
      ],
      "execution_count": 0,
      "outputs": []
    },
    {
      "cell_type": "code",
      "metadata": {
        "id": "s7u9V8HH8Mr5",
        "colab_type": "code",
        "colab": {}
      },
      "source": [
        "enc_df = pd.DataFrame(enc.fit_transform(final_df[['ID']]).toarray())# merge with main df bridge_df on key values\n"
      ],
      "execution_count": 0,
      "outputs": []
    },
    {
      "cell_type": "code",
      "metadata": {
        "id": "jDwlti6O8QLv",
        "colab_type": "code",
        "colab": {
          "base_uri": "https://localhost:8080/",
          "height": 214
        },
        "outputId": "22a36b86-c43c-4835-9301-be8786bae8f4"
      },
      "source": [
        "final_df_full_hot = final_df.join(enc_df)\n",
        "final_df_full_hot.head(2)"
      ],
      "execution_count": 70,
      "outputs": [
        {
          "output_type": "execute_result",
          "data": {
            "text/html": [
              "<div>\n",
              "<style scoped>\n",
              "    .dataframe tbody tr th:only-of-type {\n",
              "        vertical-align: middle;\n",
              "    }\n",
              "\n",
              "    .dataframe tbody tr th {\n",
              "        vertical-align: top;\n",
              "    }\n",
              "\n",
              "    .dataframe thead th {\n",
              "        text-align: right;\n",
              "    }\n",
              "</style>\n",
              "<table border=\"1\" class=\"dataframe\">\n",
              "  <thead>\n",
              "    <tr style=\"text-align: right;\">\n",
              "      <th></th>\n",
              "      <th>ID</th>\n",
              "      <th>Facial Index</th>\n",
              "      <th>Mandibular Index</th>\n",
              "      <th>Intercantal Index</th>\n",
              "      <th>Orbital Width Index</th>\n",
              "      <th>Eye Fissure Index</th>\n",
              "      <th>Vermilion Height Index</th>\n",
              "      <th>Mouth Face Width Index</th>\n",
              "      <th>AGE</th>\n",
              "      <th>0</th>\n",
              "      <th>1</th>\n",
              "      <th>2</th>\n",
              "      <th>3</th>\n",
              "      <th>4</th>\n",
              "      <th>5</th>\n",
              "      <th>6</th>\n",
              "      <th>7</th>\n",
              "      <th>8</th>\n",
              "      <th>9</th>\n",
              "      <th>10</th>\n",
              "      <th>11</th>\n",
              "      <th>12</th>\n",
              "      <th>13</th>\n",
              "      <th>14</th>\n",
              "      <th>15</th>\n",
              "      <th>16</th>\n",
              "      <th>17</th>\n",
              "      <th>18</th>\n",
              "      <th>19</th>\n",
              "      <th>20</th>\n",
              "      <th>21</th>\n",
              "      <th>22</th>\n",
              "      <th>23</th>\n",
              "      <th>24</th>\n",
              "      <th>25</th>\n",
              "      <th>26</th>\n",
              "      <th>27</th>\n",
              "      <th>28</th>\n",
              "      <th>29</th>\n",
              "      <th>30</th>\n",
              "      <th>...</th>\n",
              "      <th>42</th>\n",
              "      <th>43</th>\n",
              "      <th>44</th>\n",
              "      <th>45</th>\n",
              "      <th>46</th>\n",
              "      <th>47</th>\n",
              "      <th>48</th>\n",
              "      <th>49</th>\n",
              "      <th>50</th>\n",
              "      <th>51</th>\n",
              "      <th>52</th>\n",
              "      <th>53</th>\n",
              "      <th>54</th>\n",
              "      <th>55</th>\n",
              "      <th>56</th>\n",
              "      <th>57</th>\n",
              "      <th>58</th>\n",
              "      <th>59</th>\n",
              "      <th>60</th>\n",
              "      <th>61</th>\n",
              "      <th>62</th>\n",
              "      <th>63</th>\n",
              "      <th>64</th>\n",
              "      <th>65</th>\n",
              "      <th>66</th>\n",
              "      <th>67</th>\n",
              "      <th>68</th>\n",
              "      <th>69</th>\n",
              "      <th>70</th>\n",
              "      <th>71</th>\n",
              "      <th>72</th>\n",
              "      <th>73</th>\n",
              "      <th>74</th>\n",
              "      <th>75</th>\n",
              "      <th>76</th>\n",
              "      <th>77</th>\n",
              "      <th>78</th>\n",
              "      <th>79</th>\n",
              "      <th>80</th>\n",
              "      <th>81</th>\n",
              "    </tr>\n",
              "  </thead>\n",
              "  <tbody>\n",
              "    <tr>\n",
              "      <th>0</th>\n",
              "      <td>1</td>\n",
              "      <td>0.806070</td>\n",
              "      <td>0.336661</td>\n",
              "      <td>0.390837</td>\n",
              "      <td>0.828399</td>\n",
              "      <td>0.521382</td>\n",
              "      <td>0.599030</td>\n",
              "      <td>0.346350</td>\n",
              "      <td>2</td>\n",
              "      <td>1.0</td>\n",
              "      <td>0.0</td>\n",
              "      <td>0.0</td>\n",
              "      <td>0.0</td>\n",
              "      <td>0.0</td>\n",
              "      <td>0.0</td>\n",
              "      <td>0.0</td>\n",
              "      <td>0.0</td>\n",
              "      <td>0.0</td>\n",
              "      <td>0.0</td>\n",
              "      <td>0.0</td>\n",
              "      <td>0.0</td>\n",
              "      <td>0.0</td>\n",
              "      <td>0.0</td>\n",
              "      <td>0.0</td>\n",
              "      <td>0.0</td>\n",
              "      <td>0.0</td>\n",
              "      <td>0.0</td>\n",
              "      <td>0.0</td>\n",
              "      <td>0.0</td>\n",
              "      <td>0.0</td>\n",
              "      <td>0.0</td>\n",
              "      <td>0.0</td>\n",
              "      <td>0.0</td>\n",
              "      <td>0.0</td>\n",
              "      <td>0.0</td>\n",
              "      <td>0.0</td>\n",
              "      <td>0.0</td>\n",
              "      <td>0.0</td>\n",
              "      <td>0.0</td>\n",
              "      <td>0.0</td>\n",
              "      <td>...</td>\n",
              "      <td>0.0</td>\n",
              "      <td>0.0</td>\n",
              "      <td>0.0</td>\n",
              "      <td>0.0</td>\n",
              "      <td>0.0</td>\n",
              "      <td>0.0</td>\n",
              "      <td>0.0</td>\n",
              "      <td>0.0</td>\n",
              "      <td>0.0</td>\n",
              "      <td>0.0</td>\n",
              "      <td>0.0</td>\n",
              "      <td>0.0</td>\n",
              "      <td>0.0</td>\n",
              "      <td>0.0</td>\n",
              "      <td>0.0</td>\n",
              "      <td>0.0</td>\n",
              "      <td>0.0</td>\n",
              "      <td>0.0</td>\n",
              "      <td>0.0</td>\n",
              "      <td>0.0</td>\n",
              "      <td>0.0</td>\n",
              "      <td>0.0</td>\n",
              "      <td>0.0</td>\n",
              "      <td>0.0</td>\n",
              "      <td>0.0</td>\n",
              "      <td>0.0</td>\n",
              "      <td>0.0</td>\n",
              "      <td>0.0</td>\n",
              "      <td>0.0</td>\n",
              "      <td>0.0</td>\n",
              "      <td>0.0</td>\n",
              "      <td>0.0</td>\n",
              "      <td>0.0</td>\n",
              "      <td>0.0</td>\n",
              "      <td>0.0</td>\n",
              "      <td>0.0</td>\n",
              "      <td>0.0</td>\n",
              "      <td>0.0</td>\n",
              "      <td>0.0</td>\n",
              "      <td>0.0</td>\n",
              "    </tr>\n",
              "    <tr>\n",
              "      <th>1</th>\n",
              "      <td>1</td>\n",
              "      <td>0.852819</td>\n",
              "      <td>0.442643</td>\n",
              "      <td>0.386980</td>\n",
              "      <td>0.774311</td>\n",
              "      <td>0.461004</td>\n",
              "      <td>0.659254</td>\n",
              "      <td>0.393676</td>\n",
              "      <td>5</td>\n",
              "      <td>1.0</td>\n",
              "      <td>0.0</td>\n",
              "      <td>0.0</td>\n",
              "      <td>0.0</td>\n",
              "      <td>0.0</td>\n",
              "      <td>0.0</td>\n",
              "      <td>0.0</td>\n",
              "      <td>0.0</td>\n",
              "      <td>0.0</td>\n",
              "      <td>0.0</td>\n",
              "      <td>0.0</td>\n",
              "      <td>0.0</td>\n",
              "      <td>0.0</td>\n",
              "      <td>0.0</td>\n",
              "      <td>0.0</td>\n",
              "      <td>0.0</td>\n",
              "      <td>0.0</td>\n",
              "      <td>0.0</td>\n",
              "      <td>0.0</td>\n",
              "      <td>0.0</td>\n",
              "      <td>0.0</td>\n",
              "      <td>0.0</td>\n",
              "      <td>0.0</td>\n",
              "      <td>0.0</td>\n",
              "      <td>0.0</td>\n",
              "      <td>0.0</td>\n",
              "      <td>0.0</td>\n",
              "      <td>0.0</td>\n",
              "      <td>0.0</td>\n",
              "      <td>0.0</td>\n",
              "      <td>0.0</td>\n",
              "      <td>...</td>\n",
              "      <td>0.0</td>\n",
              "      <td>0.0</td>\n",
              "      <td>0.0</td>\n",
              "      <td>0.0</td>\n",
              "      <td>0.0</td>\n",
              "      <td>0.0</td>\n",
              "      <td>0.0</td>\n",
              "      <td>0.0</td>\n",
              "      <td>0.0</td>\n",
              "      <td>0.0</td>\n",
              "      <td>0.0</td>\n",
              "      <td>0.0</td>\n",
              "      <td>0.0</td>\n",
              "      <td>0.0</td>\n",
              "      <td>0.0</td>\n",
              "      <td>0.0</td>\n",
              "      <td>0.0</td>\n",
              "      <td>0.0</td>\n",
              "      <td>0.0</td>\n",
              "      <td>0.0</td>\n",
              "      <td>0.0</td>\n",
              "      <td>0.0</td>\n",
              "      <td>0.0</td>\n",
              "      <td>0.0</td>\n",
              "      <td>0.0</td>\n",
              "      <td>0.0</td>\n",
              "      <td>0.0</td>\n",
              "      <td>0.0</td>\n",
              "      <td>0.0</td>\n",
              "      <td>0.0</td>\n",
              "      <td>0.0</td>\n",
              "      <td>0.0</td>\n",
              "      <td>0.0</td>\n",
              "      <td>0.0</td>\n",
              "      <td>0.0</td>\n",
              "      <td>0.0</td>\n",
              "      <td>0.0</td>\n",
              "      <td>0.0</td>\n",
              "      <td>0.0</td>\n",
              "      <td>0.0</td>\n",
              "    </tr>\n",
              "  </tbody>\n",
              "</table>\n",
              "<p>2 rows × 91 columns</p>\n",
              "</div>"
            ],
            "text/plain": [
              "   ID  Facial Index  Mandibular Index  Intercantal Index  ...   78   79   80   81\n",
              "0   1      0.806070          0.336661           0.390837  ...  0.0  0.0  0.0  0.0\n",
              "1   1      0.852819          0.442643           0.386980  ...  0.0  0.0  0.0  0.0\n",
              "\n",
              "[2 rows x 91 columns]"
            ]
          },
          "metadata": {
            "tags": []
          },
          "execution_count": 70
        }
      ]
    },
    {
      "cell_type": "code",
      "metadata": {
        "id": "K6ldXyua9EwZ",
        "colab_type": "code",
        "colab": {}
      },
      "source": [
        "final_df_full_hot.to_csv('/content/drive/My Drive/Aging model/final_df_full_hot.csv')"
      ],
      "execution_count": 0,
      "outputs": []
    },
    {
      "cell_type": "markdown",
      "metadata": {
        "id": "8TpdlN818VRw",
        "colab_type": "text"
      },
      "source": [
        "# Start"
      ]
    },
    {
      "cell_type": "code",
      "metadata": {
        "id": "EMZ83dUO643X",
        "colab_type": "code",
        "colab": {}
      },
      "source": [
        "final_df_full_hot=pd.read_csv('/content/drive/My Drive/Aging model/final_df_full_hot.csv')"
      ],
      "execution_count": 0,
      "outputs": []
    },
    {
      "cell_type": "code",
      "metadata": {
        "id": "G2sFNVOR8aqr",
        "colab_type": "code",
        "colab": {
          "base_uri": "https://localhost:8080/",
          "height": 214
        },
        "outputId": "11d25b63-e527-48a1-d048-b22bbc59d485"
      },
      "source": [
        "final_df_full_hot.head(2)"
      ],
      "execution_count": 8,
      "outputs": [
        {
          "output_type": "execute_result",
          "data": {
            "text/html": [
              "<div>\n",
              "<style scoped>\n",
              "    .dataframe tbody tr th:only-of-type {\n",
              "        vertical-align: middle;\n",
              "    }\n",
              "\n",
              "    .dataframe tbody tr th {\n",
              "        vertical-align: top;\n",
              "    }\n",
              "\n",
              "    .dataframe thead th {\n",
              "        text-align: right;\n",
              "    }\n",
              "</style>\n",
              "<table border=\"1\" class=\"dataframe\">\n",
              "  <thead>\n",
              "    <tr style=\"text-align: right;\">\n",
              "      <th></th>\n",
              "      <th>Unnamed: 0</th>\n",
              "      <th>ID</th>\n",
              "      <th>Facial Index</th>\n",
              "      <th>Mandibular Index</th>\n",
              "      <th>Intercantal Index</th>\n",
              "      <th>Orbital Width Index</th>\n",
              "      <th>Eye Fissure Index</th>\n",
              "      <th>Vermilion Height Index</th>\n",
              "      <th>Mouth Face Width Index</th>\n",
              "      <th>AGE</th>\n",
              "      <th>0</th>\n",
              "      <th>1</th>\n",
              "      <th>2</th>\n",
              "      <th>3</th>\n",
              "      <th>4</th>\n",
              "      <th>5</th>\n",
              "      <th>6</th>\n",
              "      <th>7</th>\n",
              "      <th>8</th>\n",
              "      <th>9</th>\n",
              "      <th>10</th>\n",
              "      <th>11</th>\n",
              "      <th>12</th>\n",
              "      <th>13</th>\n",
              "      <th>14</th>\n",
              "      <th>15</th>\n",
              "      <th>16</th>\n",
              "      <th>17</th>\n",
              "      <th>18</th>\n",
              "      <th>19</th>\n",
              "      <th>20</th>\n",
              "      <th>21</th>\n",
              "      <th>22</th>\n",
              "      <th>23</th>\n",
              "      <th>24</th>\n",
              "      <th>25</th>\n",
              "      <th>26</th>\n",
              "      <th>27</th>\n",
              "      <th>28</th>\n",
              "      <th>29</th>\n",
              "      <th>...</th>\n",
              "      <th>42</th>\n",
              "      <th>43</th>\n",
              "      <th>44</th>\n",
              "      <th>45</th>\n",
              "      <th>46</th>\n",
              "      <th>47</th>\n",
              "      <th>48</th>\n",
              "      <th>49</th>\n",
              "      <th>50</th>\n",
              "      <th>51</th>\n",
              "      <th>52</th>\n",
              "      <th>53</th>\n",
              "      <th>54</th>\n",
              "      <th>55</th>\n",
              "      <th>56</th>\n",
              "      <th>57</th>\n",
              "      <th>58</th>\n",
              "      <th>59</th>\n",
              "      <th>60</th>\n",
              "      <th>61</th>\n",
              "      <th>62</th>\n",
              "      <th>63</th>\n",
              "      <th>64</th>\n",
              "      <th>65</th>\n",
              "      <th>66</th>\n",
              "      <th>67</th>\n",
              "      <th>68</th>\n",
              "      <th>69</th>\n",
              "      <th>70</th>\n",
              "      <th>71</th>\n",
              "      <th>72</th>\n",
              "      <th>73</th>\n",
              "      <th>74</th>\n",
              "      <th>75</th>\n",
              "      <th>76</th>\n",
              "      <th>77</th>\n",
              "      <th>78</th>\n",
              "      <th>79</th>\n",
              "      <th>80</th>\n",
              "      <th>81</th>\n",
              "    </tr>\n",
              "  </thead>\n",
              "  <tbody>\n",
              "    <tr>\n",
              "      <th>0</th>\n",
              "      <td>0</td>\n",
              "      <td>1</td>\n",
              "      <td>0.806070</td>\n",
              "      <td>0.336661</td>\n",
              "      <td>0.390837</td>\n",
              "      <td>0.828399</td>\n",
              "      <td>0.521382</td>\n",
              "      <td>0.599030</td>\n",
              "      <td>0.346350</td>\n",
              "      <td>2</td>\n",
              "      <td>1.0</td>\n",
              "      <td>0.0</td>\n",
              "      <td>0.0</td>\n",
              "      <td>0.0</td>\n",
              "      <td>0.0</td>\n",
              "      <td>0.0</td>\n",
              "      <td>0.0</td>\n",
              "      <td>0.0</td>\n",
              "      <td>0.0</td>\n",
              "      <td>0.0</td>\n",
              "      <td>0.0</td>\n",
              "      <td>0.0</td>\n",
              "      <td>0.0</td>\n",
              "      <td>0.0</td>\n",
              "      <td>0.0</td>\n",
              "      <td>0.0</td>\n",
              "      <td>0.0</td>\n",
              "      <td>0.0</td>\n",
              "      <td>0.0</td>\n",
              "      <td>0.0</td>\n",
              "      <td>0.0</td>\n",
              "      <td>0.0</td>\n",
              "      <td>0.0</td>\n",
              "      <td>0.0</td>\n",
              "      <td>0.0</td>\n",
              "      <td>0.0</td>\n",
              "      <td>0.0</td>\n",
              "      <td>0.0</td>\n",
              "      <td>0.0</td>\n",
              "      <td>0.0</td>\n",
              "      <td>...</td>\n",
              "      <td>0.0</td>\n",
              "      <td>0.0</td>\n",
              "      <td>0.0</td>\n",
              "      <td>0.0</td>\n",
              "      <td>0.0</td>\n",
              "      <td>0.0</td>\n",
              "      <td>0.0</td>\n",
              "      <td>0.0</td>\n",
              "      <td>0.0</td>\n",
              "      <td>0.0</td>\n",
              "      <td>0.0</td>\n",
              "      <td>0.0</td>\n",
              "      <td>0.0</td>\n",
              "      <td>0.0</td>\n",
              "      <td>0.0</td>\n",
              "      <td>0.0</td>\n",
              "      <td>0.0</td>\n",
              "      <td>0.0</td>\n",
              "      <td>0.0</td>\n",
              "      <td>0.0</td>\n",
              "      <td>0.0</td>\n",
              "      <td>0.0</td>\n",
              "      <td>0.0</td>\n",
              "      <td>0.0</td>\n",
              "      <td>0.0</td>\n",
              "      <td>0.0</td>\n",
              "      <td>0.0</td>\n",
              "      <td>0.0</td>\n",
              "      <td>0.0</td>\n",
              "      <td>0.0</td>\n",
              "      <td>0.0</td>\n",
              "      <td>0.0</td>\n",
              "      <td>0.0</td>\n",
              "      <td>0.0</td>\n",
              "      <td>0.0</td>\n",
              "      <td>0.0</td>\n",
              "      <td>0.0</td>\n",
              "      <td>0.0</td>\n",
              "      <td>0.0</td>\n",
              "      <td>0.0</td>\n",
              "    </tr>\n",
              "    <tr>\n",
              "      <th>1</th>\n",
              "      <td>1</td>\n",
              "      <td>1</td>\n",
              "      <td>0.852819</td>\n",
              "      <td>0.442643</td>\n",
              "      <td>0.386980</td>\n",
              "      <td>0.774311</td>\n",
              "      <td>0.461004</td>\n",
              "      <td>0.659254</td>\n",
              "      <td>0.393676</td>\n",
              "      <td>5</td>\n",
              "      <td>1.0</td>\n",
              "      <td>0.0</td>\n",
              "      <td>0.0</td>\n",
              "      <td>0.0</td>\n",
              "      <td>0.0</td>\n",
              "      <td>0.0</td>\n",
              "      <td>0.0</td>\n",
              "      <td>0.0</td>\n",
              "      <td>0.0</td>\n",
              "      <td>0.0</td>\n",
              "      <td>0.0</td>\n",
              "      <td>0.0</td>\n",
              "      <td>0.0</td>\n",
              "      <td>0.0</td>\n",
              "      <td>0.0</td>\n",
              "      <td>0.0</td>\n",
              "      <td>0.0</td>\n",
              "      <td>0.0</td>\n",
              "      <td>0.0</td>\n",
              "      <td>0.0</td>\n",
              "      <td>0.0</td>\n",
              "      <td>0.0</td>\n",
              "      <td>0.0</td>\n",
              "      <td>0.0</td>\n",
              "      <td>0.0</td>\n",
              "      <td>0.0</td>\n",
              "      <td>0.0</td>\n",
              "      <td>0.0</td>\n",
              "      <td>0.0</td>\n",
              "      <td>0.0</td>\n",
              "      <td>...</td>\n",
              "      <td>0.0</td>\n",
              "      <td>0.0</td>\n",
              "      <td>0.0</td>\n",
              "      <td>0.0</td>\n",
              "      <td>0.0</td>\n",
              "      <td>0.0</td>\n",
              "      <td>0.0</td>\n",
              "      <td>0.0</td>\n",
              "      <td>0.0</td>\n",
              "      <td>0.0</td>\n",
              "      <td>0.0</td>\n",
              "      <td>0.0</td>\n",
              "      <td>0.0</td>\n",
              "      <td>0.0</td>\n",
              "      <td>0.0</td>\n",
              "      <td>0.0</td>\n",
              "      <td>0.0</td>\n",
              "      <td>0.0</td>\n",
              "      <td>0.0</td>\n",
              "      <td>0.0</td>\n",
              "      <td>0.0</td>\n",
              "      <td>0.0</td>\n",
              "      <td>0.0</td>\n",
              "      <td>0.0</td>\n",
              "      <td>0.0</td>\n",
              "      <td>0.0</td>\n",
              "      <td>0.0</td>\n",
              "      <td>0.0</td>\n",
              "      <td>0.0</td>\n",
              "      <td>0.0</td>\n",
              "      <td>0.0</td>\n",
              "      <td>0.0</td>\n",
              "      <td>0.0</td>\n",
              "      <td>0.0</td>\n",
              "      <td>0.0</td>\n",
              "      <td>0.0</td>\n",
              "      <td>0.0</td>\n",
              "      <td>0.0</td>\n",
              "      <td>0.0</td>\n",
              "      <td>0.0</td>\n",
              "    </tr>\n",
              "  </tbody>\n",
              "</table>\n",
              "<p>2 rows × 92 columns</p>\n",
              "</div>"
            ],
            "text/plain": [
              "   Unnamed: 0  ID  Facial Index  Mandibular Index  ...   78   79   80   81\n",
              "0           0   1      0.806070          0.336661  ...  0.0  0.0  0.0  0.0\n",
              "1           1   1      0.852819          0.442643  ...  0.0  0.0  0.0  0.0\n",
              "\n",
              "[2 rows x 92 columns]"
            ]
          },
          "metadata": {
            "tags": []
          },
          "execution_count": 8
        }
      ]
    },
    {
      "cell_type": "markdown",
      "metadata": {
        "id": "JOS2B7rR9WyQ",
        "colab_type": "text"
      },
      "source": [
        "## Remove col 0 and 9"
      ]
    },
    {
      "cell_type": "code",
      "metadata": {
        "id": "5KQw4wGi9jXZ",
        "colab_type": "code",
        "colab": {
          "base_uri": "https://localhost:8080/",
          "height": 308
        },
        "outputId": "cc9b79de-c83f-4ce5-bd7c-9c3de3646ab5"
      },
      "source": [
        "final_df_full_hot.drop(final_df_full_hot.columns[[0,9]], axis = 1, inplace = True) \n",
        "final_df_full_hot.head()"
      ],
      "execution_count": 9,
      "outputs": [
        {
          "output_type": "execute_result",
          "data": {
            "text/html": [
              "<div>\n",
              "<style scoped>\n",
              "    .dataframe tbody tr th:only-of-type {\n",
              "        vertical-align: middle;\n",
              "    }\n",
              "\n",
              "    .dataframe tbody tr th {\n",
              "        vertical-align: top;\n",
              "    }\n",
              "\n",
              "    .dataframe thead th {\n",
              "        text-align: right;\n",
              "    }\n",
              "</style>\n",
              "<table border=\"1\" class=\"dataframe\">\n",
              "  <thead>\n",
              "    <tr style=\"text-align: right;\">\n",
              "      <th></th>\n",
              "      <th>ID</th>\n",
              "      <th>Facial Index</th>\n",
              "      <th>Mandibular Index</th>\n",
              "      <th>Intercantal Index</th>\n",
              "      <th>Orbital Width Index</th>\n",
              "      <th>Eye Fissure Index</th>\n",
              "      <th>Vermilion Height Index</th>\n",
              "      <th>Mouth Face Width Index</th>\n",
              "      <th>0</th>\n",
              "      <th>1</th>\n",
              "      <th>2</th>\n",
              "      <th>3</th>\n",
              "      <th>4</th>\n",
              "      <th>5</th>\n",
              "      <th>6</th>\n",
              "      <th>7</th>\n",
              "      <th>8</th>\n",
              "      <th>9</th>\n",
              "      <th>10</th>\n",
              "      <th>11</th>\n",
              "      <th>12</th>\n",
              "      <th>13</th>\n",
              "      <th>14</th>\n",
              "      <th>15</th>\n",
              "      <th>16</th>\n",
              "      <th>17</th>\n",
              "      <th>18</th>\n",
              "      <th>19</th>\n",
              "      <th>20</th>\n",
              "      <th>21</th>\n",
              "      <th>22</th>\n",
              "      <th>23</th>\n",
              "      <th>24</th>\n",
              "      <th>25</th>\n",
              "      <th>26</th>\n",
              "      <th>27</th>\n",
              "      <th>28</th>\n",
              "      <th>29</th>\n",
              "      <th>30</th>\n",
              "      <th>31</th>\n",
              "      <th>...</th>\n",
              "      <th>42</th>\n",
              "      <th>43</th>\n",
              "      <th>44</th>\n",
              "      <th>45</th>\n",
              "      <th>46</th>\n",
              "      <th>47</th>\n",
              "      <th>48</th>\n",
              "      <th>49</th>\n",
              "      <th>50</th>\n",
              "      <th>51</th>\n",
              "      <th>52</th>\n",
              "      <th>53</th>\n",
              "      <th>54</th>\n",
              "      <th>55</th>\n",
              "      <th>56</th>\n",
              "      <th>57</th>\n",
              "      <th>58</th>\n",
              "      <th>59</th>\n",
              "      <th>60</th>\n",
              "      <th>61</th>\n",
              "      <th>62</th>\n",
              "      <th>63</th>\n",
              "      <th>64</th>\n",
              "      <th>65</th>\n",
              "      <th>66</th>\n",
              "      <th>67</th>\n",
              "      <th>68</th>\n",
              "      <th>69</th>\n",
              "      <th>70</th>\n",
              "      <th>71</th>\n",
              "      <th>72</th>\n",
              "      <th>73</th>\n",
              "      <th>74</th>\n",
              "      <th>75</th>\n",
              "      <th>76</th>\n",
              "      <th>77</th>\n",
              "      <th>78</th>\n",
              "      <th>79</th>\n",
              "      <th>80</th>\n",
              "      <th>81</th>\n",
              "    </tr>\n",
              "  </thead>\n",
              "  <tbody>\n",
              "    <tr>\n",
              "      <th>0</th>\n",
              "      <td>1</td>\n",
              "      <td>0.806070</td>\n",
              "      <td>0.336661</td>\n",
              "      <td>0.390837</td>\n",
              "      <td>0.828399</td>\n",
              "      <td>0.521382</td>\n",
              "      <td>0.599030</td>\n",
              "      <td>0.346350</td>\n",
              "      <td>1.0</td>\n",
              "      <td>0.0</td>\n",
              "      <td>0.0</td>\n",
              "      <td>0.0</td>\n",
              "      <td>0.0</td>\n",
              "      <td>0.0</td>\n",
              "      <td>0.0</td>\n",
              "      <td>0.0</td>\n",
              "      <td>0.0</td>\n",
              "      <td>0.0</td>\n",
              "      <td>0.0</td>\n",
              "      <td>0.0</td>\n",
              "      <td>0.0</td>\n",
              "      <td>0.0</td>\n",
              "      <td>0.0</td>\n",
              "      <td>0.0</td>\n",
              "      <td>0.0</td>\n",
              "      <td>0.0</td>\n",
              "      <td>0.0</td>\n",
              "      <td>0.0</td>\n",
              "      <td>0.0</td>\n",
              "      <td>0.0</td>\n",
              "      <td>0.0</td>\n",
              "      <td>0.0</td>\n",
              "      <td>0.0</td>\n",
              "      <td>0.0</td>\n",
              "      <td>0.0</td>\n",
              "      <td>0.0</td>\n",
              "      <td>0.0</td>\n",
              "      <td>0.0</td>\n",
              "      <td>0.0</td>\n",
              "      <td>0.0</td>\n",
              "      <td>...</td>\n",
              "      <td>0.0</td>\n",
              "      <td>0.0</td>\n",
              "      <td>0.0</td>\n",
              "      <td>0.0</td>\n",
              "      <td>0.0</td>\n",
              "      <td>0.0</td>\n",
              "      <td>0.0</td>\n",
              "      <td>0.0</td>\n",
              "      <td>0.0</td>\n",
              "      <td>0.0</td>\n",
              "      <td>0.0</td>\n",
              "      <td>0.0</td>\n",
              "      <td>0.0</td>\n",
              "      <td>0.0</td>\n",
              "      <td>0.0</td>\n",
              "      <td>0.0</td>\n",
              "      <td>0.0</td>\n",
              "      <td>0.0</td>\n",
              "      <td>0.0</td>\n",
              "      <td>0.0</td>\n",
              "      <td>0.0</td>\n",
              "      <td>0.0</td>\n",
              "      <td>0.0</td>\n",
              "      <td>0.0</td>\n",
              "      <td>0.0</td>\n",
              "      <td>0.0</td>\n",
              "      <td>0.0</td>\n",
              "      <td>0.0</td>\n",
              "      <td>0.0</td>\n",
              "      <td>0.0</td>\n",
              "      <td>0.0</td>\n",
              "      <td>0.0</td>\n",
              "      <td>0.0</td>\n",
              "      <td>0.0</td>\n",
              "      <td>0.0</td>\n",
              "      <td>0.0</td>\n",
              "      <td>0.0</td>\n",
              "      <td>0.0</td>\n",
              "      <td>0.0</td>\n",
              "      <td>0.0</td>\n",
              "    </tr>\n",
              "    <tr>\n",
              "      <th>1</th>\n",
              "      <td>1</td>\n",
              "      <td>0.852819</td>\n",
              "      <td>0.442643</td>\n",
              "      <td>0.386980</td>\n",
              "      <td>0.774311</td>\n",
              "      <td>0.461004</td>\n",
              "      <td>0.659254</td>\n",
              "      <td>0.393676</td>\n",
              "      <td>1.0</td>\n",
              "      <td>0.0</td>\n",
              "      <td>0.0</td>\n",
              "      <td>0.0</td>\n",
              "      <td>0.0</td>\n",
              "      <td>0.0</td>\n",
              "      <td>0.0</td>\n",
              "      <td>0.0</td>\n",
              "      <td>0.0</td>\n",
              "      <td>0.0</td>\n",
              "      <td>0.0</td>\n",
              "      <td>0.0</td>\n",
              "      <td>0.0</td>\n",
              "      <td>0.0</td>\n",
              "      <td>0.0</td>\n",
              "      <td>0.0</td>\n",
              "      <td>0.0</td>\n",
              "      <td>0.0</td>\n",
              "      <td>0.0</td>\n",
              "      <td>0.0</td>\n",
              "      <td>0.0</td>\n",
              "      <td>0.0</td>\n",
              "      <td>0.0</td>\n",
              "      <td>0.0</td>\n",
              "      <td>0.0</td>\n",
              "      <td>0.0</td>\n",
              "      <td>0.0</td>\n",
              "      <td>0.0</td>\n",
              "      <td>0.0</td>\n",
              "      <td>0.0</td>\n",
              "      <td>0.0</td>\n",
              "      <td>0.0</td>\n",
              "      <td>...</td>\n",
              "      <td>0.0</td>\n",
              "      <td>0.0</td>\n",
              "      <td>0.0</td>\n",
              "      <td>0.0</td>\n",
              "      <td>0.0</td>\n",
              "      <td>0.0</td>\n",
              "      <td>0.0</td>\n",
              "      <td>0.0</td>\n",
              "      <td>0.0</td>\n",
              "      <td>0.0</td>\n",
              "      <td>0.0</td>\n",
              "      <td>0.0</td>\n",
              "      <td>0.0</td>\n",
              "      <td>0.0</td>\n",
              "      <td>0.0</td>\n",
              "      <td>0.0</td>\n",
              "      <td>0.0</td>\n",
              "      <td>0.0</td>\n",
              "      <td>0.0</td>\n",
              "      <td>0.0</td>\n",
              "      <td>0.0</td>\n",
              "      <td>0.0</td>\n",
              "      <td>0.0</td>\n",
              "      <td>0.0</td>\n",
              "      <td>0.0</td>\n",
              "      <td>0.0</td>\n",
              "      <td>0.0</td>\n",
              "      <td>0.0</td>\n",
              "      <td>0.0</td>\n",
              "      <td>0.0</td>\n",
              "      <td>0.0</td>\n",
              "      <td>0.0</td>\n",
              "      <td>0.0</td>\n",
              "      <td>0.0</td>\n",
              "      <td>0.0</td>\n",
              "      <td>0.0</td>\n",
              "      <td>0.0</td>\n",
              "      <td>0.0</td>\n",
              "      <td>0.0</td>\n",
              "      <td>0.0</td>\n",
              "    </tr>\n",
              "    <tr>\n",
              "      <th>2</th>\n",
              "      <td>1</td>\n",
              "      <td>0.877282</td>\n",
              "      <td>0.404491</td>\n",
              "      <td>0.442716</td>\n",
              "      <td>0.675757</td>\n",
              "      <td>0.358158</td>\n",
              "      <td>0.306820</td>\n",
              "      <td>0.384508</td>\n",
              "      <td>1.0</td>\n",
              "      <td>0.0</td>\n",
              "      <td>0.0</td>\n",
              "      <td>0.0</td>\n",
              "      <td>0.0</td>\n",
              "      <td>0.0</td>\n",
              "      <td>0.0</td>\n",
              "      <td>0.0</td>\n",
              "      <td>0.0</td>\n",
              "      <td>0.0</td>\n",
              "      <td>0.0</td>\n",
              "      <td>0.0</td>\n",
              "      <td>0.0</td>\n",
              "      <td>0.0</td>\n",
              "      <td>0.0</td>\n",
              "      <td>0.0</td>\n",
              "      <td>0.0</td>\n",
              "      <td>0.0</td>\n",
              "      <td>0.0</td>\n",
              "      <td>0.0</td>\n",
              "      <td>0.0</td>\n",
              "      <td>0.0</td>\n",
              "      <td>0.0</td>\n",
              "      <td>0.0</td>\n",
              "      <td>0.0</td>\n",
              "      <td>0.0</td>\n",
              "      <td>0.0</td>\n",
              "      <td>0.0</td>\n",
              "      <td>0.0</td>\n",
              "      <td>0.0</td>\n",
              "      <td>0.0</td>\n",
              "      <td>0.0</td>\n",
              "      <td>...</td>\n",
              "      <td>0.0</td>\n",
              "      <td>0.0</td>\n",
              "      <td>0.0</td>\n",
              "      <td>0.0</td>\n",
              "      <td>0.0</td>\n",
              "      <td>0.0</td>\n",
              "      <td>0.0</td>\n",
              "      <td>0.0</td>\n",
              "      <td>0.0</td>\n",
              "      <td>0.0</td>\n",
              "      <td>0.0</td>\n",
              "      <td>0.0</td>\n",
              "      <td>0.0</td>\n",
              "      <td>0.0</td>\n",
              "      <td>0.0</td>\n",
              "      <td>0.0</td>\n",
              "      <td>0.0</td>\n",
              "      <td>0.0</td>\n",
              "      <td>0.0</td>\n",
              "      <td>0.0</td>\n",
              "      <td>0.0</td>\n",
              "      <td>0.0</td>\n",
              "      <td>0.0</td>\n",
              "      <td>0.0</td>\n",
              "      <td>0.0</td>\n",
              "      <td>0.0</td>\n",
              "      <td>0.0</td>\n",
              "      <td>0.0</td>\n",
              "      <td>0.0</td>\n",
              "      <td>0.0</td>\n",
              "      <td>0.0</td>\n",
              "      <td>0.0</td>\n",
              "      <td>0.0</td>\n",
              "      <td>0.0</td>\n",
              "      <td>0.0</td>\n",
              "      <td>0.0</td>\n",
              "      <td>0.0</td>\n",
              "      <td>0.0</td>\n",
              "      <td>0.0</td>\n",
              "      <td>0.0</td>\n",
              "    </tr>\n",
              "    <tr>\n",
              "      <th>3</th>\n",
              "      <td>1</td>\n",
              "      <td>0.883831</td>\n",
              "      <td>0.395061</td>\n",
              "      <td>0.415456</td>\n",
              "      <td>0.698110</td>\n",
              "      <td>0.419721</td>\n",
              "      <td>0.409635</td>\n",
              "      <td>0.361281</td>\n",
              "      <td>1.0</td>\n",
              "      <td>0.0</td>\n",
              "      <td>0.0</td>\n",
              "      <td>0.0</td>\n",
              "      <td>0.0</td>\n",
              "      <td>0.0</td>\n",
              "      <td>0.0</td>\n",
              "      <td>0.0</td>\n",
              "      <td>0.0</td>\n",
              "      <td>0.0</td>\n",
              "      <td>0.0</td>\n",
              "      <td>0.0</td>\n",
              "      <td>0.0</td>\n",
              "      <td>0.0</td>\n",
              "      <td>0.0</td>\n",
              "      <td>0.0</td>\n",
              "      <td>0.0</td>\n",
              "      <td>0.0</td>\n",
              "      <td>0.0</td>\n",
              "      <td>0.0</td>\n",
              "      <td>0.0</td>\n",
              "      <td>0.0</td>\n",
              "      <td>0.0</td>\n",
              "      <td>0.0</td>\n",
              "      <td>0.0</td>\n",
              "      <td>0.0</td>\n",
              "      <td>0.0</td>\n",
              "      <td>0.0</td>\n",
              "      <td>0.0</td>\n",
              "      <td>0.0</td>\n",
              "      <td>0.0</td>\n",
              "      <td>0.0</td>\n",
              "      <td>...</td>\n",
              "      <td>0.0</td>\n",
              "      <td>0.0</td>\n",
              "      <td>0.0</td>\n",
              "      <td>0.0</td>\n",
              "      <td>0.0</td>\n",
              "      <td>0.0</td>\n",
              "      <td>0.0</td>\n",
              "      <td>0.0</td>\n",
              "      <td>0.0</td>\n",
              "      <td>0.0</td>\n",
              "      <td>0.0</td>\n",
              "      <td>0.0</td>\n",
              "      <td>0.0</td>\n",
              "      <td>0.0</td>\n",
              "      <td>0.0</td>\n",
              "      <td>0.0</td>\n",
              "      <td>0.0</td>\n",
              "      <td>0.0</td>\n",
              "      <td>0.0</td>\n",
              "      <td>0.0</td>\n",
              "      <td>0.0</td>\n",
              "      <td>0.0</td>\n",
              "      <td>0.0</td>\n",
              "      <td>0.0</td>\n",
              "      <td>0.0</td>\n",
              "      <td>0.0</td>\n",
              "      <td>0.0</td>\n",
              "      <td>0.0</td>\n",
              "      <td>0.0</td>\n",
              "      <td>0.0</td>\n",
              "      <td>0.0</td>\n",
              "      <td>0.0</td>\n",
              "      <td>0.0</td>\n",
              "      <td>0.0</td>\n",
              "      <td>0.0</td>\n",
              "      <td>0.0</td>\n",
              "      <td>0.0</td>\n",
              "      <td>0.0</td>\n",
              "      <td>0.0</td>\n",
              "      <td>0.0</td>\n",
              "    </tr>\n",
              "    <tr>\n",
              "      <th>4</th>\n",
              "      <td>1</td>\n",
              "      <td>0.892233</td>\n",
              "      <td>0.408905</td>\n",
              "      <td>0.421452</td>\n",
              "      <td>0.690838</td>\n",
              "      <td>0.414924</td>\n",
              "      <td>0.511849</td>\n",
              "      <td>0.428505</td>\n",
              "      <td>1.0</td>\n",
              "      <td>0.0</td>\n",
              "      <td>0.0</td>\n",
              "      <td>0.0</td>\n",
              "      <td>0.0</td>\n",
              "      <td>0.0</td>\n",
              "      <td>0.0</td>\n",
              "      <td>0.0</td>\n",
              "      <td>0.0</td>\n",
              "      <td>0.0</td>\n",
              "      <td>0.0</td>\n",
              "      <td>0.0</td>\n",
              "      <td>0.0</td>\n",
              "      <td>0.0</td>\n",
              "      <td>0.0</td>\n",
              "      <td>0.0</td>\n",
              "      <td>0.0</td>\n",
              "      <td>0.0</td>\n",
              "      <td>0.0</td>\n",
              "      <td>0.0</td>\n",
              "      <td>0.0</td>\n",
              "      <td>0.0</td>\n",
              "      <td>0.0</td>\n",
              "      <td>0.0</td>\n",
              "      <td>0.0</td>\n",
              "      <td>0.0</td>\n",
              "      <td>0.0</td>\n",
              "      <td>0.0</td>\n",
              "      <td>0.0</td>\n",
              "      <td>0.0</td>\n",
              "      <td>0.0</td>\n",
              "      <td>0.0</td>\n",
              "      <td>...</td>\n",
              "      <td>0.0</td>\n",
              "      <td>0.0</td>\n",
              "      <td>0.0</td>\n",
              "      <td>0.0</td>\n",
              "      <td>0.0</td>\n",
              "      <td>0.0</td>\n",
              "      <td>0.0</td>\n",
              "      <td>0.0</td>\n",
              "      <td>0.0</td>\n",
              "      <td>0.0</td>\n",
              "      <td>0.0</td>\n",
              "      <td>0.0</td>\n",
              "      <td>0.0</td>\n",
              "      <td>0.0</td>\n",
              "      <td>0.0</td>\n",
              "      <td>0.0</td>\n",
              "      <td>0.0</td>\n",
              "      <td>0.0</td>\n",
              "      <td>0.0</td>\n",
              "      <td>0.0</td>\n",
              "      <td>0.0</td>\n",
              "      <td>0.0</td>\n",
              "      <td>0.0</td>\n",
              "      <td>0.0</td>\n",
              "      <td>0.0</td>\n",
              "      <td>0.0</td>\n",
              "      <td>0.0</td>\n",
              "      <td>0.0</td>\n",
              "      <td>0.0</td>\n",
              "      <td>0.0</td>\n",
              "      <td>0.0</td>\n",
              "      <td>0.0</td>\n",
              "      <td>0.0</td>\n",
              "      <td>0.0</td>\n",
              "      <td>0.0</td>\n",
              "      <td>0.0</td>\n",
              "      <td>0.0</td>\n",
              "      <td>0.0</td>\n",
              "      <td>0.0</td>\n",
              "      <td>0.0</td>\n",
              "    </tr>\n",
              "  </tbody>\n",
              "</table>\n",
              "<p>5 rows × 90 columns</p>\n",
              "</div>"
            ],
            "text/plain": [
              "   ID  Facial Index  Mandibular Index  Intercantal Index  ...   78   79   80   81\n",
              "0   1      0.806070          0.336661           0.390837  ...  0.0  0.0  0.0  0.0\n",
              "1   1      0.852819          0.442643           0.386980  ...  0.0  0.0  0.0  0.0\n",
              "2   1      0.877282          0.404491           0.442716  ...  0.0  0.0  0.0  0.0\n",
              "3   1      0.883831          0.395061           0.415456  ...  0.0  0.0  0.0  0.0\n",
              "4   1      0.892233          0.408905           0.421452  ...  0.0  0.0  0.0  0.0\n",
              "\n",
              "[5 rows x 90 columns]"
            ]
          },
          "metadata": {
            "tags": []
          },
          "execution_count": 9
        }
      ]
    },
    {
      "cell_type": "markdown",
      "metadata": {
        "id": "xbKzu-Wc-Byq",
        "colab_type": "text"
      },
      "source": [
        "# Train Valid split"
      ]
    },
    {
      "cell_type": "code",
      "metadata": {
        "id": "nthDiWFJxss6",
        "colab_type": "code",
        "colab": {}
      },
      "source": [
        "train_size = len(final_df_full_hot['ID'].unique()) * .8"
      ],
      "execution_count": 0,
      "outputs": []
    },
    {
      "cell_type": "code",
      "metadata": {
        "id": "XXTttWaHx0zQ",
        "colab_type": "code",
        "colab": {}
      },
      "source": [
        "train = pd.DataFrame()\n",
        "valid = pd.DataFrame()\n",
        "for n,i in enumerate(final_df_full_hot['ID'].unique()):\n",
        "    if n< train_size:\n",
        "        train = pd.concat([train, final_df_full_hot[final_df_full_hot['ID']==i]])\n",
        "    else:\n",
        "        valid = pd.concat([valid, final_df_full_hot[final_df_full_hot['ID']==i]])"
      ],
      "execution_count": 0,
      "outputs": []
    },
    {
      "cell_type": "code",
      "metadata": {
        "id": "N0uNakOIxw1V",
        "colab_type": "code",
        "colab": {
          "base_uri": "https://localhost:8080/",
          "height": 35
        },
        "outputId": "fc1de41b-b003-4e64-b239-5bc7e628192d"
      },
      "source": [
        "print(valid.shape,train.shape)"
      ],
      "execution_count": 12,
      "outputs": [
        {
          "output_type": "stream",
          "text": [
            "(212, 90) (790, 90)\n"
          ],
          "name": "stdout"
        }
      ]
    },
    {
      "cell_type": "code",
      "metadata": {
        "id": "usp6T10-91Yz",
        "colab_type": "code",
        "colab": {}
      },
      "source": [
        "valid=valid.to_csv('/content/drive/My Drive/Aging model/valid.csv')"
      ],
      "execution_count": 0,
      "outputs": []
    },
    {
      "cell_type": "code",
      "metadata": {
        "id": "xleOurjpAaAZ",
        "colab_type": "code",
        "colab": {}
      },
      "source": [
        "train=train.to_csv('/content/drive/My Drive/Aging model/train.csv')"
      ],
      "execution_count": 0,
      "outputs": []
    },
    {
      "cell_type": "code",
      "metadata": {
        "id": "eiuckQaLx7xR",
        "colab_type": "code",
        "colab": {
          "base_uri": "https://localhost:8080/",
          "height": 54
        },
        "outputId": "dd600bb6-43f2-4f29-80ec-3250928acdfb"
      },
      "source": [
        "print('Training Set Has: ' + str(len(train.groupby('ID').count())) + ' people')\n",
        "print('Validation (Test) Set Has: ' + str(len(valid.groupby('ID').count())) + ' people')"
      ],
      "execution_count": 13,
      "outputs": [
        {
          "output_type": "stream",
          "text": [
            "Training Set Has: 66 people\n",
            "Validation (Test) Set Has: 16 people\n"
          ],
          "name": "stdout"
        }
      ]
    },
    {
      "cell_type": "code",
      "metadata": {
        "id": "8JI3qzyfyFTy",
        "colab_type": "code",
        "colab": {}
      },
      "source": [
        "X_train = train[  ['Facial Index','Mandibular Index','Intercantal Index','Orbital Width Index','Eye Fissure Index','Vermilion Height Index','Mouth Face Width Index']]\n",
        "\n",
        "X_valid = valid[  ['Facial Index','Mandibular Index','Intercantal Index','Orbital Width Index','Eye Fissure Index','Vermilion Height Index','Mouth Face Width Index']]\n"
      ],
      "execution_count": 0,
      "outputs": []
    },
    {
      "cell_type": "code",
      "metadata": {
        "id": "fFvFjMnn_oRn",
        "colab_type": "code",
        "colab": {
          "base_uri": "https://localhost:8080/",
          "height": 220
        },
        "outputId": "75101b1c-2c26-4c9e-bc1b-9865c5bd2605"
      },
      "source": [
        "valid.columns"
      ],
      "execution_count": 34,
      "outputs": [
        {
          "output_type": "execute_result",
          "data": {
            "text/plain": [
              "Index(['ID', 'Facial Index', 'Mandibular Index', 'Intercantal Index',\n",
              "       'Orbital Width Index', 'Eye Fissure Index', 'Vermilion Height Index',\n",
              "       'Mouth Face Width Index', '0', '1', '2', '3', '4', '5', '6', '7', '8',\n",
              "       '9', '10', '11', '12', '13', '14', '15', '16', '17', '18', '19', '20',\n",
              "       '21', '22', '23', '24', '25', '26', '27', '28', '29', '30', '31', '32',\n",
              "       '33', '34', '35', '36', '37', '38', '39', '40', '41', '42', '43', '44',\n",
              "       '45', '46', '47', '48', '49', '50', '51', '52', '53', '54', '55', '56',\n",
              "       '57', '58', '59', '60', '61', '62', '63', '64', '65', '66', '67', '68',\n",
              "       '69', '70', '71', '72', '73', '74', '75', '76', '77', '78', '79', '80',\n",
              "       '81'],\n",
              "      dtype='object')"
            ]
          },
          "metadata": {
            "tags": []
          },
          "execution_count": 34
        }
      ]
    },
    {
      "cell_type": "code",
      "metadata": {
        "id": "jVuTaZVh_292",
        "colab_type": "code",
        "colab": {}
      },
      "source": [
        "y_valid=valid[['0', '1', '2', '3', '4', '5', '6', '7', '8',\n",
        "       '9', '10', '11', '12', '13', '14', '15', '16', '17', '18', '19', '20',\n",
        "       '21', '22', '23', '24', '25', '26', '27', '28', '29', '30', '31', '32',\n",
        "       '33', '34', '35', '36', '37', '38', '39', '40', '41', '42', '43', '44',\n",
        "       '45', '46', '47', '48', '49', '50', '51', '52', '53', '54', '55', '56',\n",
        "       '57', '58', '59', '60', '61', '62', '63', '64', '65', '66', '67', '68',\n",
        "       '69', '70', '71', '72', '73', '74', '75', '76', '77', '78', '79', '80',\n",
        "       '81']]"
      ],
      "execution_count": 0,
      "outputs": []
    },
    {
      "cell_type": "code",
      "metadata": {
        "id": "P9SZ9kdMAA4U",
        "colab_type": "code",
        "colab": {}
      },
      "source": [
        "y_train=train[['0', '1', '2', '3', '4', '5', '6', '7', '8',\n",
        "       '9', '10', '11', '12', '13', '14', '15', '16', '17', '18', '19', '20',\n",
        "       '21', '22', '23', '24', '25', '26', '27', '28', '29', '30', '31', '32',\n",
        "       '33', '34', '35', '36', '37', '38', '39', '40', '41', '42', '43', '44',\n",
        "       '45', '46', '47', '48', '49', '50', '51', '52', '53', '54', '55', '56',\n",
        "       '57', '58', '59', '60', '61', '62', '63', '64', '65', '66', '67', '68',\n",
        "       '69', '70', '71', '72', '73', '74', '75', '76', '77', '78', '79', '80',\n",
        "       '81']]"
      ],
      "execution_count": 0,
      "outputs": []
    },
    {
      "cell_type": "code",
      "metadata": {
        "id": "rfeYxgKKzEXH",
        "colab_type": "code",
        "colab": {
          "base_uri": "https://localhost:8080/",
          "height": 295
        },
        "outputId": "daf5e306-b283-4d59-cb2f-ed5009833cd0"
      },
      "source": [
        "classes=final_df_full_hot['ID'].values\n",
        "unique, counts = np.unique(classes, return_counts=True)\n",
        "plt.bar(unique,counts)\n",
        "plt.title('Class Frequency')\n",
        "plt.xlabel('Class')\n",
        "plt.ylabel('Frequency')\n",
        "plt.show()"
      ],
      "execution_count": 17,
      "outputs": [
        {
          "output_type": "display_data",
          "data": {
            "image/png": "[encoded data removed]",
            "text/plain": [
              "<Figure size 432x288 with 1 Axes>"
            ]
          },
          "metadata": {
            "tags": [],
            "needs_background": "light"
          }
        }
      ]
    },
    {
      "cell_type": "markdown",
      "metadata": {
        "id": "we4lEeCXCYKe",
        "colab_type": "text"
      },
      "source": [
        "Test and Train new files"
      ]
    },
    {
      "cell_type": "code",
      "metadata": {
        "id": "IsHgRRN-CdPn",
        "colab_type": "code",
        "colab": {}
      },
      "source": [
        "train=pd.read_csv('/content/drive/My Drive/Aging model/train.csv')"
      ],
      "execution_count": 0,
      "outputs": []
    },
    {
      "cell_type": "code",
      "metadata": {
        "id": "bsWSJm47FPws",
        "colab_type": "code",
        "colab": {
          "base_uri": "https://localhost:8080/",
          "height": 35
        },
        "outputId": "8b0e22ea-ac62-4623-d2d5-40b755b0640a"
      },
      "source": [
        "train.shape"
      ],
      "execution_count": 66,
      "outputs": [
        {
          "output_type": "execute_result",
          "data": {
            "text/plain": [
              "(747, 91)"
            ]
          },
          "metadata": {
            "tags": []
          },
          "execution_count": 66
        }
      ]
    },
    {
      "cell_type": "code",
      "metadata": {
        "id": "1NG6r_wrFWnn",
        "colab_type": "code",
        "colab": {
          "base_uri": "https://localhost:8080/",
          "height": 35
        },
        "outputId": "1dc6a39d-15d3-4d08-f578-ebfcd3483544"
      },
      "source": [
        "valid.shape"
      ],
      "execution_count": 67,
      "outputs": [
        {
          "output_type": "execute_result",
          "data": {
            "text/plain": [
              "(212, 90)"
            ]
          },
          "metadata": {
            "tags": []
          },
          "execution_count": 67
        }
      ]
    },
    {
      "cell_type": "code",
      "metadata": {
        "id": "adqaQkvDCkgZ",
        "colab_type": "code",
        "colab": {}
      },
      "source": [
        "test=pd.read_csv('/content/drive/My Drive/Aging model/test.csv')"
      ],
      "execution_count": 0,
      "outputs": []
    },
    {
      "cell_type": "code",
      "metadata": {
        "id": "L_vRmVdxz2gj",
        "colab_type": "code",
        "colab": {}
      },
      "source": [
        "X_train = train[  ['Facial Index','Mandibular Index','Intercantal Index','Orbital Width Index','Eye Fissure Index','Vermilion Height Index','Mouth Face Width Index']]\n",
        "\n",
        "X_valid = valid[  ['Facial Index','Mandibular Index','Intercantal Index','Orbital Width Index','Eye Fissure Index','Vermilion Height Index','Mouth Face Width Index']]\n",
        "\n",
        "X_test = test[  ['Facial Index','Mandibular Index','Intercantal Index','Orbital Width Index','Eye Fissure Index','Vermilion Height Index','Mouth Face Width Index']]\n"
      ],
      "execution_count": 0,
      "outputs": []
    },
    {
      "cell_type": "code",
      "metadata": {
        "id": "es3G14e1Gjan",
        "colab_type": "code",
        "colab": {}
      },
      "source": [
        "y_valid=valid[['0', '1', '2', '3', '4', '5', '6', '7', '8',\n",
        "       '9', '10', '11', '12', '13', '14', '15', '16', '17', '18', '19', '20',\n",
        "       '21', '22', '23', '24', '25', '26', '27', '28', '29', '30', '31', '32',\n",
        "       '33', '34', '35', '36', '37', '38', '39', '40', '41', '42', '43', '44',\n",
        "       '45', '46', '47', '48', '49', '50', '51', '52', '53', '54', '55', '56',\n",
        "       '57', '58', '59', '60', '61', '62', '63', '64', '65', '66', '67', '68',\n",
        "       '69', '70', '71', '72', '73', '74', '75', '76', '77', '78', '79', '80',\n",
        "       '81']]"
      ],
      "execution_count": 0,
      "outputs": []
    },
    {
      "cell_type": "code",
      "metadata": {
        "id": "lqTS0WWDGnPM",
        "colab_type": "code",
        "colab": {}
      },
      "source": [
        "y_train=train[['0', '1', '2', '3', '4', '5', '6', '7', '8',\n",
        "       '9', '10', '11', '12', '13', '14', '15', '16', '17', '18', '19', '20',\n",
        "       '21', '22', '23', '24', '25', '26', '27', '28', '29', '30', '31', '32',\n",
        "       '33', '34', '35', '36', '37', '38', '39', '40', '41', '42', '43', '44',\n",
        "       '45', '46', '47', '48', '49', '50', '51', '52', '53', '54', '55', '56',\n",
        "       '57', '58', '59', '60', '61', '62', '63', '64', '65', '66', '67', '68',\n",
        "       '69', '70', '71', '72', '73', '74', '75', '76', '77', '78', '79', '80',\n",
        "       '81']]"
      ],
      "execution_count": 0,
      "outputs": []
    },
    {
      "cell_type": "code",
      "metadata": {
        "id": "SlARJbVIG_p2",
        "colab_type": "code",
        "colab": {}
      },
      "source": [
        "y_test=test[['0', '1', '2', '3', '4', '5', '6', '7', '8',\n",
        "       '9', '10', '11', '12', '13', '14', '15', '16', '17', '18', '19', '20',\n",
        "       '21', '22', '23', '24', '25', '26', '27', '28', '29', '30', '31', '32',\n",
        "       '33', '34', '35', '36', '37', '38', '39', '40', '41', '42', '43', '44',\n",
        "       '45', '46', '47', '48', '49', '50', '51', '52', '53', '54', '55', '56',\n",
        "       '57', '58', '59', '60', '61', '62', '63', '64', '65', '66', '67', '68',\n",
        "       '69', '70', '71', '72', '73', '74', '75', '76', '77', '78', '79', '80',\n",
        "       '81']]"
      ],
      "execution_count": 0,
      "outputs": []
    },
    {
      "cell_type": "code",
      "metadata": {
        "id": "oeAUCDk1yULu",
        "colab_type": "code",
        "colab": {
          "base_uri": "https://localhost:8080/",
          "height": 35
        },
        "outputId": "addda2cd-44fd-4f94-c2f2-ba54e704af06"
      },
      "source": [
        "print(X_train.shape,X_valid.shape,y_train.shape,y_valid.shape)"
      ],
      "execution_count": 70,
      "outputs": [
        {
          "output_type": "stream",
          "text": [
            "(747, 7) (212, 7) (747, 82) (212, 82)\n"
          ],
          "name": "stdout"
        }
      ]
    },
    {
      "cell_type": "code",
      "metadata": {
        "id": "rbsMgKqAyaoI",
        "colab_type": "code",
        "colab": {}
      },
      "source": [
        "model = Sequential()\n",
        "model.add(Dense(128, activation='relu', input_shape=(7,)))\n",
        "model.add(Dense(512, activation='relu'))\n",
        "model.add(Dense(128, activation='relu'))\n",
        "model.add(Dense(82, activation='sigmoid'))"
      ],
      "execution_count": 0,
      "outputs": []
    },
    {
      "cell_type": "code",
      "metadata": {
        "id": "GrmrOOPdAX2a",
        "colab_type": "code",
        "colab": {}
      },
      "source": [
        ""
      ],
      "execution_count": 0,
      "outputs": []
    },
    {
      "cell_type": "code",
      "metadata": {
        "id": "Yhvoz5bl1BTS",
        "colab_type": "code",
        "colab": {}
      },
      "source": [
        "model.compile(optimizer='rmsprop',\n",
        "loss='binary_crossentropy',\n",
        "metrics=['accuracy'])"
      ],
      "execution_count": 0,
      "outputs": []
    },
    {
      "cell_type": "code",
      "metadata": {
        "id": "6iuuXVThAaXy",
        "colab_type": "code",
        "colab": {
          "base_uri": "https://localhost:8080/",
          "height": 795
        },
        "outputId": "f164a006-fae8-4786-e61a-4f40ca788c3d"
      },
      "source": [
        "history = model.fit(X_train,\n",
        "y_train,\n",
        "epochs=20,\n",
        "batch_size=100,\n",
        "validation_data=(X_valid, y_valid))"
      ],
      "execution_count": 73,
      "outputs": [
        {
          "output_type": "stream",
          "text": [
            "Train on 747 samples, validate on 212 samples\n",
            "Epoch 1/20\n",
            "747/747 [==============================] - 0s 235us/step - loss: 0.5215 - accuracy: 0.8293 - val_loss: 0.2162 - val_accuracy: 0.9634\n",
            "Epoch 2/20\n",
            "747/747 [==============================] - 0s 75us/step - loss: 0.1354 - accuracy: 0.9767 - val_loss: 0.0860 - val_accuracy: 0.9878\n",
            "Epoch 3/20\n",
            "747/747 [==============================] - 0s 74us/step - loss: 0.0752 - accuracy: 0.9878 - val_loss: 0.0812 - val_accuracy: 0.9878\n",
            "Epoch 4/20\n",
            "747/747 [==============================] - 0s 69us/step - loss: 0.0679 - accuracy: 0.9878 - val_loss: 0.0851 - val_accuracy: 0.9878\n",
            "Epoch 5/20\n",
            "747/747 [==============================] - 0s 68us/step - loss: 0.0654 - accuracy: 0.9878 - val_loss: 0.0901 - val_accuracy: 0.9878\n",
            "Epoch 6/20\n",
            "747/747 [==============================] - 0s 70us/step - loss: 0.0644 - accuracy: 0.9878 - val_loss: 0.0942 - val_accuracy: 0.9878\n",
            "Epoch 7/20\n",
            "747/747 [==============================] - 0s 77us/step - loss: 0.0640 - accuracy: 0.9878 - val_loss: 0.0991 - val_accuracy: 0.9878\n",
            "Epoch 8/20\n",
            "747/747 [==============================] - 0s 74us/step - loss: 0.0639 - accuracy: 0.9878 - val_loss: 0.1026 - val_accuracy: 0.9878\n",
            "Epoch 9/20\n",
            "747/747 [==============================] - 0s 73us/step - loss: 0.0637 - accuracy: 0.9878 - val_loss: 0.1082 - val_accuracy: 0.9878\n",
            "Epoch 10/20\n",
            "747/747 [==============================] - 0s 74us/step - loss: 0.0635 - accuracy: 0.9878 - val_loss: 0.1100 - val_accuracy: 0.9878\n",
            "Epoch 11/20\n",
            "747/747 [==============================] - 0s 80us/step - loss: 0.0637 - accuracy: 0.9878 - val_loss: 0.1145 - val_accuracy: 0.9878\n",
            "Epoch 12/20\n",
            "747/747 [==============================] - 0s 73us/step - loss: 0.0634 - accuracy: 0.9878 - val_loss: 0.1197 - val_accuracy: 0.9878\n",
            "Epoch 13/20\n",
            "747/747 [==============================] - 0s 75us/step - loss: 0.0632 - accuracy: 0.9878 - val_loss: 0.1203 - val_accuracy: 0.9878\n",
            "Epoch 14/20\n",
            "747/747 [==============================] - 0s 74us/step - loss: 0.0634 - accuracy: 0.9878 - val_loss: 0.1252 - val_accuracy: 0.9878\n",
            "Epoch 15/20\n",
            "747/747 [==============================] - 0s 70us/step - loss: 0.0631 - accuracy: 0.9878 - val_loss: 0.1331 - val_accuracy: 0.9878\n",
            "Epoch 16/20\n",
            "747/747 [==============================] - 0s 70us/step - loss: 0.0632 - accuracy: 0.9878 - val_loss: 0.1359 - val_accuracy: 0.9878\n",
            "Epoch 17/20\n",
            "747/747 [==============================] - 0s 70us/step - loss: 0.0629 - accuracy: 0.9878 - val_loss: 0.1399 - val_accuracy: 0.9878\n",
            "Epoch 18/20\n",
            "747/747 [==============================] - 0s 77us/step - loss: 0.0628 - accuracy: 0.9878 - val_loss: 0.1397 - val_accuracy: 0.9878\n",
            "Epoch 19/20\n",
            "747/747 [==============================] - 0s 78us/step - loss: 0.0631 - accuracy: 0.9878 - val_loss: 0.1455 - val_accuracy: 0.9878\n",
            "Epoch 20/20\n",
            "747/747 [==============================] - 0s 77us/step - loss: 0.0629 - accuracy: 0.9878 - val_loss: 0.1460 - val_accuracy: 0.9878\n"
          ],
          "name": "stdout"
        }
      ]
    },
    {
      "cell_type": "code",
      "metadata": {
        "id": "kFdEAYTS87ah",
        "colab_type": "code",
        "colab": {
          "base_uri": "https://localhost:8080/",
          "height": 295
        },
        "outputId": "fd52a1ee-88d2-4302-c36c-d06537781986"
      },
      "source": [
        "loss = history.history['loss']\n",
        "val_loss = history.history['val_loss']\n",
        "epochs = range(1, len(loss) + 1)\n",
        "plt.plot(epochs, loss, 'bo', label='Training loss')\n",
        "plt.plot(epochs, val_loss, 'b', label='Validation loss')\n",
        "plt.title('Training and validation loss')\n",
        "plt.xlabel('Epochs')\n",
        "plt.ylabel('Loss')\n",
        "plt.legend()\n",
        "plt.show()"
      ],
      "execution_count": 74,
      "outputs": [
        {
          "output_type": "display_data",
          "data": {
            "image/png": "[encoded data removed]",
            "text/plain": [
              "<Figure size 432x288 with 1 Axes>"
            ]
          },
          "metadata": {
            "tags": [],
            "needs_background": "light"
          }
        }
      ]
    },
    {
      "cell_type": "code",
      "metadata": {
        "id": "LKbIAh6Q9CY9",
        "colab_type": "code",
        "colab": {
          "base_uri": "https://localhost:8080/",
          "height": 295
        },
        "outputId": "16aac337-6760-43c1-e9cc-9fd6ff8fdb9a"
      },
      "source": [
        "loss = history.history['accuracy']\n",
        "val_loss = history.history['val_accuracy']\n",
        "epochs = range(1, len(loss) + 1)\n",
        "plt.plot(epochs, loss, 'bo', label='Training loss')\n",
        "plt.plot(epochs, val_loss, 'b', label='Validation loss')\n",
        "plt.title('Training and validation loss')\n",
        "plt.xlabel('Epochs')\n",
        "plt.ylabel('Loss')\n",
        "plt.legend()\n",
        "plt.show()"
      ],
      "execution_count": 75,
      "outputs": [
        {
          "output_type": "display_data",
          "data": {
            "image/png": "[encoded data removed]",
            "text/plain": [
              "<Figure size 432x288 with 1 Axes>"
            ]
          },
          "metadata": {
            "tags": [],
            "needs_background": "light"
          }
        }
      ]
    },
    {
      "cell_type": "code",
      "metadata": {
        "id": "kNzD-VObGx8y",
        "colab_type": "code",
        "colab": {
          "base_uri": "https://localhost:8080/",
          "height": 54
        },
        "outputId": "0cec7778-d8d9-495e-b81c-8c366b1b6707"
      },
      "source": [
        "model.evaluate(X_test,y_test)"
      ],
      "execution_count": 77,
      "outputs": [
        {
          "output_type": "stream",
          "text": [
            "43/43 [==============================] - 0s 153us/step\n"
          ],
          "name": "stdout"
        },
        {
          "output_type": "execute_result",
          "data": {
            "text/plain": [
              "[0.14050774102987246, 0.9878048300743103]"
            ]
          },
          "metadata": {
            "tags": []
          },
          "execution_count": 77
        }
      ]
    },
    {
      "cell_type": "markdown",
      "metadata": {
        "id": "ivFTnr9ZHzBN",
        "colab_type": "text"
      },
      "source": [
        "# Alhamdulillah got 98 percent accuracy"
      ]
    }
  ]
}