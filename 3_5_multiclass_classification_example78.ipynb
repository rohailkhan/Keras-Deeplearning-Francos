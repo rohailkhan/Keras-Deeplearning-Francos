{
  "nbformat": 4,
  "nbformat_minor": 0,
  "metadata": {
    "colab": {
      "name": "Franc 3.5 multiclass classification example78",
      "provenance": []
    },
    "kernelspec": {
      "name": "python3",
      "display_name": "Python 3"
    }
  },
  "cells": [
    {
      "cell_type": "markdown",
      "metadata": {
        "id": "YK5FAlo-06-T",
        "colab_type": "text"
      },
      "source": [
        "# Build a network to classify Reuters newswires into 46 mutually\n",
        "exclusive topics"
      ]
    },
    {
      "cell_type": "code",
      "metadata": {
        "id": "N85qUra-5BVY",
        "colab_type": "code",
        "colab": {}
      },
      "source": [
        "(x_train, y_train), (x_test, y_test) = reuters.load_data(\n",
        "num_words=10000)"
      ],
      "execution_count": 0,
      "outputs": []
    },
    {
      "cell_type": "code",
      "metadata": {
        "id": "fxs7_ZIExnyu",
        "colab_type": "code",
        "colab": {}
      },
      "source": [
        "import numpy as np\n",
        "def vectorize_suquences(sequences,dimension=10000):\n",
        "  results=np.zeros((len(sequences),dimension))\n",
        "  for i,sequence in enumerate(sequences):\n",
        "    results[i,sequence]=1\n",
        "    return results"
      ],
      "execution_count": 0,
      "outputs": []
    },
    {
      "cell_type": "code",
      "metadata": {
        "id": "fXO3wHWNybbx",
        "colab_type": "code",
        "colab": {}
      },
      "source": [
        "x_train=vectorize_suquences(x_train)\n",
        "x_test=vectorize_suquences(x_test)"
      ],
      "execution_count": 0,
      "outputs": []
    },
    {
      "cell_type": "code",
      "metadata": {
        "id": "0NAuKPmS88wc",
        "colab_type": "code",
        "colab": {
          "base_uri": "https://localhost:8080/",
          "height": 36
        },
        "outputId": "f75e39a8-2a0a-4623-8d08-9c64f38c6e78"
      },
      "source": [
        "print(y_train.shape,y_test.shape,x_train.shape,x_test.shape)"
      ],
      "execution_count": 110,
      "outputs": [
        {
          "output_type": "stream",
          "text": [
            "(8982,) (2246,) (8982, 10000) (2246, 10000)\n"
          ],
          "name": "stdout"
        }
      ]
    },
    {
      "cell_type": "code",
      "metadata": {
        "id": "wlMDGl1Oy-kn",
        "colab_type": "code",
        "colab": {}
      },
      "source": [
        "def to_one_hot(labels, dimension=46):\n",
        "  results = np.zeros((len(labels), dimension))\n",
        "  for i, label in enumerate(labels):\n",
        "    results[i, label] = 1.\n",
        "    return results"
      ],
      "execution_count": 0,
      "outputs": []
    },
    {
      "cell_type": "code",
      "metadata": {
        "id": "hnZ2HQNxzckF",
        "colab_type": "code",
        "colab": {}
      },
      "source": [
        "from keras.utils.np_utils import to_categorical"
      ],
      "execution_count": 0,
      "outputs": []
    },
    {
      "cell_type": "code",
      "metadata": {
        "id": "1LO5QwOlznxM",
        "colab_type": "code",
        "colab": {}
      },
      "source": [
        "y_train=to_categorical(y_train)\n",
        "y_test=to_categorical(y_test)"
      ],
      "execution_count": 0,
      "outputs": []
    },
    {
      "cell_type": "code",
      "metadata": {
        "id": "GPai0kt90EOZ",
        "colab_type": "code",
        "colab": {
          "base_uri": "https://localhost:8080/",
          "height": 36
        },
        "outputId": "8cdc9dd5-fb70-4316-9925-b188a79481ed"
      },
      "source": [
        "print(y_train.shape,y_test.shape,x_train.shape,x_test.shape)"
      ],
      "execution_count": 174,
      "outputs": [
        {
          "output_type": "stream",
          "text": [
            "(8982, 46) (2246, 46) (8982, 10000) (2246, 10000)\n"
          ],
          "name": "stdout"
        }
      ]
    },
    {
      "cell_type": "code",
      "metadata": {
        "id": "DQHrT5IT2Zbd",
        "colab_type": "code",
        "colab": {}
      },
      "source": [
        "from keras.initializers import glorot_uniform"
      ],
      "execution_count": 0,
      "outputs": []
    },
    {
      "cell_type": "code",
      "metadata": {
        "id": "4cNvwTSZ1ddC",
        "colab_type": "code",
        "colab": {}
      },
      "source": [
        "# 46 MULTI CLASSES so 46 softmax\n",
        "from keras.models import Sequential\n",
        "from keras.layers import Dense\n",
        "model=Sequential()\n",
        "model.add(Dense(64,activation='relu',input_shape=(10000,),\n",
        "                kernel_initializer=glorot_uniform(seed=66)))\n",
        "model.add(Dense(64,activation='relu',\n",
        "                kernel_initializer=glorot_uniform(seed=66)))\n",
        "model.add(Dense(46,activation='softmax',\n",
        "                kernel_initializer=glorot_uniform(seed=66)))"
      ],
      "execution_count": 0,
      "outputs": []
    },
    {
      "cell_type": "code",
      "metadata": {
        "id": "F0x86gGp3C1K",
        "colab_type": "code",
        "colab": {}
      },
      "source": [
        "model.compile(optimizer='rmsprop',loss='categorical_crossentropy',metrics=['accuracy'])"
      ],
      "execution_count": 0,
      "outputs": []
    },
    {
      "cell_type": "markdown",
      "metadata": {
        "id": "RueJ801o4Wge",
        "colab_type": "text"
      },
      "source": [
        "# Validating your approach\n",
        "Let’s set apart 1,000 samples in the training data to use as a validation set."
      ]
    },
    {
      "cell_type": "code",
      "metadata": {
        "id": "Dt1niAMy4PCA",
        "colab_type": "code",
        "colab": {}
      },
      "source": [
        "x_val=x_train[:1000]\n",
        "partial_x_train=x_train[1000:]"
      ],
      "execution_count": 0,
      "outputs": []
    },
    {
      "cell_type": "code",
      "metadata": {
        "id": "qiUZFV0q48Sw",
        "colab_type": "code",
        "colab": {
          "base_uri": "https://localhost:8080/",
          "height": 36
        },
        "outputId": "bb9f6d6f-3786-4b88-c8dd-13217c30e151"
      },
      "source": [
        "len(y_train)"
      ],
      "execution_count": 67,
      "outputs": [
        {
          "output_type": "execute_result",
          "data": {
            "text/plain": [
              "2246"
            ]
          },
          "metadata": {
            "tags": []
          },
          "execution_count": 67
        }
      ]
    },
    {
      "cell_type": "code",
      "metadata": {
        "id": "dpoQS_z56N5I",
        "colab_type": "code",
        "colab": {}
      },
      "source": [
        "y_val=y_train[:1000]\n",
        "partial_y_train=y_train[1000:]"
      ],
      "execution_count": 0,
      "outputs": []
    },
    {
      "cell_type": "code",
      "metadata": {
        "id": "G_5c2xPB6fv0",
        "colab_type": "code",
        "colab": {
          "base_uri": "https://localhost:8080/",
          "height": 392
        },
        "outputId": "5158ced4-3412-4148-d57e-91b6570541e5"
      },
      "source": [
        "history = model.fit(partial_x_train,\n",
        "partial_y_train,\n",
        "epochs=9,\n",
        "batch_size=512,\n",
        "validation_data=(x_val, y_val))"
      ],
      "execution_count": 198,
      "outputs": [
        {
          "output_type": "stream",
          "text": [
            "Train on 7982 samples, validate on 1000 samples\n",
            "Epoch 1/9\n",
            "7982/7982 [==============================] - 1s 119us/step - loss: 3.8118 - accuracy: 0.0561 - val_loss: 3.7979 - val_accuracy: 0.0470\n",
            "Epoch 2/9\n",
            "7982/7982 [==============================] - 1s 113us/step - loss: 3.7880 - accuracy: 0.1983 - val_loss: 3.7770 - val_accuracy: 0.3530\n",
            "Epoch 3/9\n",
            "7982/7982 [==============================] - 1s 111us/step - loss: 3.7676 - accuracy: 0.3108 - val_loss: 3.7570 - val_accuracy: 0.2220\n",
            "Epoch 4/9\n",
            "7982/7982 [==============================] - 1s 111us/step - loss: 3.7477 - accuracy: 0.2481 - val_loss: 3.7373 - val_accuracy: 0.3530\n",
            "Epoch 5/9\n",
            "7982/7982 [==============================] - 1s 109us/step - loss: 3.7280 - accuracy: 0.3225 - val_loss: 3.7178 - val_accuracy: 0.2220\n",
            "Epoch 6/9\n",
            "7982/7982 [==============================] - 1s 110us/step - loss: 3.7084 - accuracy: 0.2709 - val_loss: 3.6984 - val_accuracy: 0.3530\n",
            "Epoch 7/9\n",
            "7982/7982 [==============================] - 1s 113us/step - loss: 3.6890 - accuracy: 0.2789 - val_loss: 3.6790 - val_accuracy: 0.3530\n",
            "Epoch 8/9\n",
            "7982/7982 [==============================] - 1s 107us/step - loss: 3.6697 - accuracy: 0.3514 - val_loss: 3.6599 - val_accuracy: 0.3530\n",
            "Epoch 9/9\n",
            "7982/7982 [==============================] - 1s 109us/step - loss: 3.6506 - accuracy: 0.3514 - val_loss: 3.6410 - val_accuracy: 0.3530\n"
          ],
          "name": "stdout"
        }
      ]
    },
    {
      "cell_type": "code",
      "metadata": {
        "id": "vLtRxNh7GeiP",
        "colab_type": "code",
        "colab": {
          "base_uri": "https://localhost:8080/",
          "height": 54
        },
        "outputId": "eda88577-332e-466c-c443-021c82c326fd"
      },
      "source": [
        "model.evaluate(x_test,y_test)"
      ],
      "execution_count": 199,
      "outputs": [
        {
          "output_type": "stream",
          "text": [
            "2246/2246 [==============================] - 0s 75us/step\n"
          ],
          "name": "stdout"
        },
        {
          "output_type": "execute_result",
          "data": {
            "text/plain": [
              "[3.6431996172703704, 0.36197686195373535]"
            ]
          },
          "metadata": {
            "tags": []
          },
          "execution_count": 199
        }
      ]
    },
    {
      "cell_type": "code",
      "metadata": {
        "id": "R7oIMN7TIUR1",
        "colab_type": "code",
        "colab": {}
      },
      "source": [
        "predictions=model.predict(x_test)"
      ],
      "execution_count": 0,
      "outputs": []
    },
    {
      "cell_type": "code",
      "metadata": {
        "id": "Km6IgjGcIcf5",
        "colab_type": "code",
        "colab": {
          "base_uri": "https://localhost:8080/",
          "height": 73
        },
        "outputId": "7e901c7c-269b-4ed8-d5cd-37a82be477a7"
      },
      "source": [
        "y_test[1]"
      ],
      "execution_count": 206,
      "outputs": [
        {
          "output_type": "execute_result",
          "data": {
            "text/plain": [
              "array([0., 0., 0., 0., 0., 0., 0., 0., 0., 0., 1., 0., 0., 0., 0., 0., 0.,\n",
              "       0., 0., 0., 0., 0., 0., 0., 0., 0., 0., 0., 0., 0., 0., 0., 0., 0.,\n",
              "       0., 0., 0., 0., 0., 0., 0., 0., 0., 0., 0., 0.], dtype=float32)"
            ]
          },
          "metadata": {
            "tags": []
          },
          "execution_count": 206
        }
      ]
    },
    {
      "cell_type": "code",
      "metadata": {
        "id": "UHQ8dqxhIkYn",
        "colab_type": "code",
        "colab": {
          "base_uri": "https://localhost:8080/",
          "height": 204
        },
        "outputId": "b0b5fe93-1aa9-452c-f087-639a4200cc16"
      },
      "source": [
        "predictions[1]"
      ],
      "execution_count": 207,
      "outputs": [
        {
          "output_type": "execute_result",
          "data": {
            "text/plain": [
              "array([0.02066464, 0.02759047, 0.0206991 , 0.02791118, 0.02790122,\n",
              "       0.02058509, 0.0206517 , 0.02059118, 0.02135371, 0.02078874,\n",
              "       0.02108149, 0.0273026 , 0.02063742, 0.022353  , 0.02058662,\n",
              "       0.02058902, 0.0276548 , 0.02062723, 0.02071331, 0.02770378,\n",
              "       0.02645959, 0.02087379, 0.02057416, 0.02058934, 0.02069562,\n",
              "       0.02087169, 0.02059948, 0.02058878, 0.02063317, 0.02059684,\n",
              "       0.02060723, 0.02062948, 0.02058446, 0.02058123, 0.02062571,\n",
              "       0.02057377, 0.02063533, 0.02057534, 0.0205881 , 0.02058063,\n",
              "       0.02060858, 0.02058895, 0.02057741, 0.02060401, 0.02059174,\n",
              "       0.02057924], dtype=float32)"
            ]
          },
          "metadata": {
            "tags": []
          },
          "execution_count": 207
        }
      ]
    },
    {
      "cell_type": "code",
      "metadata": {
        "id": "HectpAsPIree",
        "colab_type": "code",
        "colab": {
          "base_uri": "https://localhost:8080/",
          "height": 36
        },
        "outputId": "fbcb57aa-5532-40a0-ab2c-ad71522de80f"
      },
      "source": [
        "np.sum(predictions[1])"
      ],
      "execution_count": 208,
      "outputs": [
        {
          "output_type": "execute_result",
          "data": {
            "text/plain": [
              "1.0000001"
            ]
          },
          "metadata": {
            "tags": []
          },
          "execution_count": 208
        }
      ]
    },
    {
      "cell_type": "code",
      "metadata": {
        "id": "ZlJSjzDDIx6K",
        "colab_type": "code",
        "colab": {
          "base_uri": "https://localhost:8080/",
          "height": 36
        },
        "outputId": "0795cae4-9329-4826-c138-0b9252d802b5"
      },
      "source": [
        "np.argmax(predictions[1])"
      ],
      "execution_count": 209,
      "outputs": [
        {
          "output_type": "execute_result",
          "data": {
            "text/plain": [
              "3"
            ]
          },
          "metadata": {
            "tags": []
          },
          "execution_count": 209
        }
      ]
    },
    {
      "cell_type": "code",
      "metadata": {
        "id": "lbyrMoYuAOJR",
        "colab_type": "code",
        "colab": {
          "base_uri": "https://localhost:8080/",
          "height": 295
        },
        "outputId": "e04b0a0e-c28b-42d7-bd1a-524112fbd2c8"
      },
      "source": [
        "import matplotlib.pyplot as plt\n",
        "loss = history.history['loss']\n",
        "val_loss = history.history['val_loss']\n",
        "epochs = range(1, len(loss) + 1)\n",
        "plt.plot(epochs, loss, 'bo', label='Training loss')\n",
        "plt.plot(epochs, val_loss, 'b', label='Validation loss')\n",
        "plt.title('Training and validation loss')\n",
        "plt.xlabel('Epochs')\n",
        "plt.ylabel('Loss')\n",
        "plt.legend()\n",
        "plt.show()"
      ],
      "execution_count": 200,
      "outputs": [
        {
          "output_type": "display_data",
          "data": {
            "image/png": "[encoded data removed]",
            "text/plain": [
              "<Figure size 432x288 with 1 Axes>"
            ]
          },
          "metadata": {
            "tags": [],
            "needs_background": "light"
          }
        }
      ]
    },
    {
      "cell_type": "code",
      "metadata": {
        "id": "JnZHjT_vAjvN",
        "colab_type": "code",
        "colab": {
          "base_uri": "https://localhost:8080/",
          "height": 295
        },
        "outputId": "35798037-83eb-4842-f4db-d6283d97f80a"
      },
      "source": [
        "acc = history.history['accuracy']\n",
        "val_acc = history.history['val_accuracy']\n",
        "plt.plot(epochs, acc, 'bo', label='Training acc')\n",
        "plt.plot(epochs, val_acc, 'b', label='Validation acc')\n",
        "plt.title('Training and validation accuracy')\n",
        "plt.xlabel('Epochs')\n",
        "plt.ylabel('Loss')\n",
        "plt.legend()\n",
        "plt.show()"
      ],
      "execution_count": 201,
      "outputs": [
        {
          "output_type": "display_data",
          "data": {
            "image/png": "[encoded data removed]",
            "text/plain": [
              "<Figure size 432x288 with 1 Axes>"
            ]
          },
          "metadata": {
            "tags": [],
            "needs_background": "light"
          }
        }
      ]
    },
    {
      "cell_type": "code",
      "metadata": {
        "id": "g0drUjeT4nYT",
        "colab_type": "code",
        "colab": {}
      },
      "source": [
        "from keras.datasets import reuters\n",
        "(train_data, train_labels), (test_data, test_labels) = reuters.load_data(\n",
        "num_words=10000)\n",
        "\n"
      ],
      "execution_count": 0,
      "outputs": []
    },
    {
      "cell_type": "code",
      "metadata": {
        "id": "rFSnAwjrDnod",
        "colab_type": "code",
        "colab": {}
      },
      "source": [
        "def vectorize_sequences(sequences, dimension=10000):\n",
        "  results = np.zeros((len(sequences), dimension))\n",
        "  for i, sequence in enumerate(sequences):\n",
        "    results[i, sequence] = 1.\n",
        "    return results"
      ],
      "execution_count": 0,
      "outputs": []
    },
    {
      "cell_type": "code",
      "metadata": {
        "id": "jLOw0Uw4DK8o",
        "colab_type": "code",
        "colab": {}
      },
      "source": [
        "x_train = vectorize_sequences(train_data)\n",
        "x_test = vectorize_sequences(test_data)\n",
        "one_hot_train_labels = to_categorical(train_labels)\n",
        "one_hot_test_labels = to_categorical(test_labels)"
      ],
      "execution_count": 0,
      "outputs": []
    },
    {
      "cell_type": "code",
      "metadata": {
        "id": "QAF49W3SDSqO",
        "colab_type": "code",
        "colab": {}
      },
      "source": [
        "model = Sequential()\n",
        "model.add(Dense(64, activation='relu', input_shape=(10000,)))\n",
        "model.add(Dense(64, activation='relu'))\n",
        "model.add(Dense(46, activation='softmax'))"
      ],
      "execution_count": 0,
      "outputs": []
    },
    {
      "cell_type": "code",
      "metadata": {
        "id": "a5o2Kq7CDT9I",
        "colab_type": "code",
        "colab": {}
      },
      "source": [
        "model.compile(optimizer='rmsprop',\n",
        "loss='categorical_crossentropy',\n",
        "metrics=['accuracy'])"
      ],
      "execution_count": 0,
      "outputs": []
    },
    {
      "cell_type": "code",
      "metadata": {
        "id": "6IA-v67eDZTd",
        "colab_type": "code",
        "colab": {}
      },
      "source": [
        "x_val = x_train[:1000]\n",
        "partial_x_train = x_train[1000:]\n",
        "y_val = one_hot_train_labels[:1000]\n",
        "partial_y_train = one_hot_train_labels[1000:]"
      ],
      "execution_count": 0,
      "outputs": []
    },
    {
      "cell_type": "code",
      "metadata": {
        "id": "knU_2WsYDc6-",
        "colab_type": "code",
        "colab": {
          "base_uri": "https://localhost:8080/",
          "height": 804
        },
        "outputId": "6e373971-7b9c-4f9c-9bbb-d3a56b86cb43"
      },
      "source": [
        "history = model.fit(partial_x_train,\n",
        "partial_y_train,\n",
        "epochs=20,\n",
        "batch_size=512,\n",
        "validation_data=(x_val, y_val))"
      ],
      "execution_count": 154,
      "outputs": [
        {
          "output_type": "stream",
          "text": [
            "Train on 7982 samples, validate on 1000 samples\n",
            "Epoch 1/20\n",
            "7982/7982 [==============================] - 1s 118us/step - loss: 3.8120 - accuracy: 0.1908 - val_loss: 3.7980 - val_accuracy: 0.2220\n",
            "Epoch 2/20\n",
            "7982/7982 [==============================] - 1s 102us/step - loss: 3.7882 - accuracy: 0.2164 - val_loss: 3.7771 - val_accuracy: 0.2220\n",
            "Epoch 3/20\n",
            "7982/7982 [==============================] - 1s 103us/step - loss: 3.7678 - accuracy: 0.2164 - val_loss: 3.7572 - val_accuracy: 0.2220\n",
            "Epoch 4/20\n",
            "7982/7982 [==============================] - 1s 101us/step - loss: 3.7479 - accuracy: 0.2164 - val_loss: 3.7375 - val_accuracy: 0.2220\n",
            "Epoch 5/20\n",
            "7982/7982 [==============================] - 1s 103us/step - loss: 3.7282 - accuracy: 0.2164 - val_loss: 3.7179 - val_accuracy: 0.2220\n",
            "Epoch 6/20\n",
            "7982/7982 [==============================] - 1s 103us/step - loss: 3.7085 - accuracy: 0.2461 - val_loss: 3.6984 - val_accuracy: 0.2220\n",
            "Epoch 7/20\n",
            "7982/7982 [==============================] - 1s 103us/step - loss: 3.6891 - accuracy: 0.2164 - val_loss: 3.6791 - val_accuracy: 0.2220\n",
            "Epoch 8/20\n",
            "7982/7982 [==============================] - 1s 102us/step - loss: 3.6698 - accuracy: 0.2433 - val_loss: 3.6600 - val_accuracy: 0.2220\n",
            "Epoch 9/20\n",
            "7982/7982 [==============================] - 1s 100us/step - loss: 3.6507 - accuracy: 0.2219 - val_loss: 3.6410 - val_accuracy: 0.2220\n",
            "Epoch 10/20\n",
            "7982/7982 [==============================] - 1s 102us/step - loss: 3.6317 - accuracy: 0.2323 - val_loss: 3.6221 - val_accuracy: 0.3530\n",
            "Epoch 11/20\n",
            "7982/7982 [==============================] - 1s 102us/step - loss: 3.6128 - accuracy: 0.3322 - val_loss: 3.6034 - val_accuracy: 0.2220\n",
            "Epoch 12/20\n",
            "7982/7982 [==============================] - 1s 103us/step - loss: 3.5942 - accuracy: 0.2461 - val_loss: 3.5849 - val_accuracy: 0.2220\n",
            "Epoch 13/20\n",
            "7982/7982 [==============================] - 1s 102us/step - loss: 3.5756 - accuracy: 0.2390 - val_loss: 3.5664 - val_accuracy: 0.3530\n",
            "Epoch 14/20\n",
            "7982/7982 [==============================] - 1s 102us/step - loss: 3.5573 - accuracy: 0.2745 - val_loss: 3.5482 - val_accuracy: 0.3530\n",
            "Epoch 15/20\n",
            "7982/7982 [==============================] - 1s 101us/step - loss: 3.5390 - accuracy: 0.3057 - val_loss: 3.5300 - val_accuracy: 0.3530\n",
            "Epoch 16/20\n",
            "7982/7982 [==============================] - 1s 103us/step - loss: 3.5209 - accuracy: 0.3084 - val_loss: 3.5120 - val_accuracy: 0.3530\n",
            "Epoch 17/20\n",
            "7982/7982 [==============================] - 1s 102us/step - loss: 3.5030 - accuracy: 0.3312 - val_loss: 3.4942 - val_accuracy: 0.3530\n",
            "Epoch 18/20\n",
            "7982/7982 [==============================] - 1s 103us/step - loss: 3.4853 - accuracy: 0.3514 - val_loss: 3.4766 - val_accuracy: 0.3530\n",
            "Epoch 19/20\n",
            "7982/7982 [==============================] - 1s 103us/step - loss: 3.4676 - accuracy: 0.3514 - val_loss: 3.4590 - val_accuracy: 0.3530\n",
            "Epoch 20/20\n",
            "7982/7982 [==============================] - 1s 104us/step - loss: 3.4502 - accuracy: 0.3514 - val_loss: 3.4417 - val_accuracy: 0.3530\n"
          ],
          "name": "stdout"
        }
      ]
    },
    {
      "cell_type": "code",
      "metadata": {
        "id": "oWBiL-wnEFml",
        "colab_type": "code",
        "colab": {
          "base_uri": "https://localhost:8080/",
          "height": 295
        },
        "outputId": "ed8bffb8-97d6-4b0c-815c-6ec16f84b61a"
      },
      "source": [
        "import matplotlib.pyplot as plt\n",
        "loss = history.history['loss']\n",
        "val_loss = history.history['val_loss']\n",
        "epochs = range(1, len(loss) + 1)\n",
        "plt.plot(epochs, loss, 'bo', label='Training loss')\n",
        "plt.plot(epochs, val_loss, 'b', label='Validation loss')\n",
        "plt.title('Training and validation loss')\n",
        "plt.xlabel('Epochs')\n",
        "plt.ylabel('Loss')\n",
        "plt.legend()\n",
        "plt.show()"
      ],
      "execution_count": 155,
      "outputs": [
        {
          "output_type": "display_data",
          "data": {
            "image/png": "[encoded data removed]",
            "text/plain": [
              "<Figure size 432x288 with 1 Axes>"
            ]
          },
          "metadata": {
            "tags": [],
            "needs_background": "light"
          }
        }
      ]
    },
    {
      "cell_type": "code",
      "metadata": {
        "id": "PkYpkijfEQkB",
        "colab_type": "code",
        "colab": {
          "base_uri": "https://localhost:8080/",
          "height": 92
        },
        "outputId": "7892866d-4b6f-415d-f2e3-4e1c09239860"
      },
      "source": [
        "for i in history.history.keys():\n",
        "  print(i)"
      ],
      "execution_count": 157,
      "outputs": [
        {
          "output_type": "stream",
          "text": [
            "val_loss\n",
            "val_accuracy\n",
            "loss\n",
            "accuracy\n"
          ],
          "name": "stdout"
        }
      ]
    },
    {
      "cell_type": "code",
      "metadata": {
        "id": "71RuJZqSEKIS",
        "colab_type": "code",
        "colab": {
          "base_uri": "https://localhost:8080/",
          "height": 295
        },
        "outputId": "532d1247-aab9-47fd-be37-acd9cb70afdf"
      },
      "source": [
        "plt.clf()\n",
        "acc = history.history['accuracy']\n",
        "val_acc = history.history['val_accuracy']\n",
        "plt.plot(epochs, acc, 'bo', label='Training acc')\n",
        "plt.plot(epochs, val_acc, 'b', label='Validation acc')\n",
        "plt.title('Training and validation accuracy')\n",
        "plt.xlabel('Epochs')\n",
        "plt.ylabel('Loss')\n",
        "plt.legend()\n",
        "plt.show()"
      ],
      "execution_count": 159,
      "outputs": [
        {
          "output_type": "display_data",
          "data": {
            "image/png": "[encoded data removed]",
            "text/plain": [
              "<Figure size 432x288 with 1 Axes>"
            ]
          },
          "metadata": {
            "tags": [],
            "needs_background": "light"
          }
        }
      ]
    },
    {
      "cell_type": "code",
      "metadata": {
        "id": "KTTNVRiiE8X1",
        "colab_type": "code",
        "colab": {}
      },
      "source": [
        "model = Sequential()\n",
        "model.add(Dense(64, activation='relu', input_shape=(10000,)))\n",
        "model.add(Dense(64, activation='relu'))\n",
        "model.add(Dense(46, activation='softmax'))\n",
        "model.compile(optimizer='rmsprop',\n",
        "loss='categorical_crossentropy',\n",
        "metrics=['accuracy'])"
      ],
      "execution_count": 0,
      "outputs": []
    },
    {
      "cell_type": "code",
      "metadata": {
        "id": "muwggq69Fgui",
        "colab_type": "code",
        "colab": {}
      },
      "source": [
        "model.compile(optimizer='rmsprop',\n",
        "loss='categorical_crossentropy',\n",
        "metrics=['accuracy'])"
      ],
      "execution_count": 0,
      "outputs": []
    },
    {
      "cell_type": "code",
      "metadata": {
        "id": "BVtBn4qoFLOr",
        "colab_type": "code",
        "colab": {
          "base_uri": "https://localhost:8080/",
          "height": 411
        },
        "outputId": "6f03c57c-74ab-4e7d-beee-2d816f72f803"
      },
      "source": [
        "model.fit(partial_x_train,\n",
        "partial_y_train,\n",
        "epochs=9,\n",
        "batch_size=512,\n",
        "validation_data=(x_val, y_val))\n"
      ],
      "execution_count": 165,
      "outputs": [
        {
          "output_type": "stream",
          "text": [
            "Train on 7982 samples, validate on 1000 samples\n",
            "Epoch 1/9\n",
            "7982/7982 [==============================] - 1s 114us/step - loss: 3.8121 - accuracy: 0.0492 - val_loss: 3.7982 - val_accuracy: 0.0470\n",
            "Epoch 2/9\n",
            "7982/7982 [==============================] - 1s 106us/step - loss: 3.7884 - accuracy: 0.0606 - val_loss: 3.7772 - val_accuracy: 0.0480\n",
            "Epoch 3/9\n",
            "7982/7982 [==============================] - 1s 106us/step - loss: 3.7679 - accuracy: 0.2715 - val_loss: 3.7572 - val_accuracy: 0.3540\n",
            "Epoch 4/9\n",
            "7982/7982 [==============================] - 1s 107us/step - loss: 3.7479 - accuracy: 0.3514 - val_loss: 3.7374 - val_accuracy: 0.3540\n",
            "Epoch 5/9\n",
            "7982/7982 [==============================] - 1s 107us/step - loss: 3.7282 - accuracy: 0.3514 - val_loss: 3.7179 - val_accuracy: 0.3540\n",
            "Epoch 6/9\n",
            "7982/7982 [==============================] - 1s 112us/step - loss: 3.7086 - accuracy: 0.3514 - val_loss: 3.6985 - val_accuracy: 0.3540\n",
            "Epoch 7/9\n",
            "7982/7982 [==============================] - 1s 108us/step - loss: 3.6892 - accuracy: 0.3514 - val_loss: 3.6792 - val_accuracy: 0.3540\n",
            "Epoch 8/9\n",
            "7982/7982 [==============================] - 1s 108us/step - loss: 3.6699 - accuracy: 0.3514 - val_loss: 3.6601 - val_accuracy: 0.3540\n",
            "Epoch 9/9\n",
            "7982/7982 [==============================] - 1s 110us/step - loss: 3.6508 - accuracy: 0.3514 - val_loss: 3.6410 - val_accuracy: 0.3540\n"
          ],
          "name": "stdout"
        },
        {
          "output_type": "execute_result",
          "data": {
            "text/plain": [
              "<keras.callbacks.callbacks.History at 0x7ff142459048>"
            ]
          },
          "metadata": {
            "tags": []
          },
          "execution_count": 165
        }
      ]
    },
    {
      "cell_type": "code",
      "metadata": {
        "id": "PX71xlfBFSWZ",
        "colab_type": "code",
        "colab": {
          "base_uri": "https://localhost:8080/",
          "height": 36
        },
        "outputId": "ddcfcff6-12b2-45c1-aed8-a13409c2fa1e"
      },
      "source": [
        "results = model.evaluate(x_test, one_hot_test_labels)"
      ],
      "execution_count": 202,
      "outputs": [
        {
          "output_type": "stream",
          "text": [
            "2246/2246 [==============================] - 0s 81us/step\n"
          ],
          "name": "stdout"
        }
      ]
    },
    {
      "cell_type": "code",
      "metadata": {
        "id": "Witd-jgxFuai",
        "colab_type": "code",
        "colab": {
          "base_uri": "https://localhost:8080/",
          "height": 36
        },
        "outputId": "7b50b4c8-0cc8-4c8a-c437-33fe5d82f834"
      },
      "source": [
        "results"
      ],
      "execution_count": 203,
      "outputs": [
        {
          "output_type": "execute_result",
          "data": {
            "text/plain": [
              "[3.6431996172703704, 0.36197686195373535]"
            ]
          },
          "metadata": {
            "tags": []
          },
          "execution_count": 203
        }
      ]
    },
    {
      "cell_type": "code",
      "metadata": {
        "id": "QSBysSgeEudX",
        "colab_type": "code",
        "colab": {}
      },
      "source": [
        ""
      ],
      "execution_count": 0,
      "outputs": []
    }
  ]
}